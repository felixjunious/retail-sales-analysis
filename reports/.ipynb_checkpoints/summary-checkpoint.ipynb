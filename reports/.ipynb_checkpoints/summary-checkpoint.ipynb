{
 "cells": [
  {
   "cell_type": "code",
   "execution_count": 1,
   "id": "137c3aae-0f8c-4841-a01a-1f8f080b1932",
   "metadata": {},
   "outputs": [],
   "source": [
    "import pandas as pd\n",
    "import numpy as np\n",
    "import matplotlib.pyplot as plt\n",
    "import seaborn as sns"
   ]
  },
  {
   "cell_type": "markdown",
   "id": "d4d4a316-4274-4467-ae91-c980d8a0dc8d",
   "metadata": {},
   "source": [
    "# 1. Introduction"
   ]
  },
  {
   "cell_type": "markdown",
   "id": "6685d9be-e504-4825-8fc8-d261501a7bfb",
   "metadata": {},
   "source": [
    "In today's competitive retail landscape, understanding customer behavior and sales trends is crucial for crafting effective business strategies. This comprehensive analysis delves into key aspects of customer demographics, purchasing patterns, and seasonal influences, providing valuable insights for informed decision-making. By examining data on gender distribution, age range, purchase amounts, and category-specific spending, this analysis highlights significant trends and patterns. Additionally, the study explores seasonal sales peaks and declines, offering recommendations to optimize marketing strategies, pricing, and customer engagement throughout the year."
   ]
  },
  {
   "cell_type": "markdown",
   "id": "6cd3c834-6350-4dad-99d5-b69422ad749d",
   "metadata": {},
   "source": [
    "# 2. Dataset Overview"
   ]
  },
  {
   "cell_type": "markdown",
   "id": "bfdf28e9-3546-46b6-9b3b-1dbba0d60aec",
   "metadata": {},
   "source": [
    "## 2.1 Raw Dataset"
   ]
  },
  {
   "cell_type": "code",
   "execution_count": 2,
   "id": "6a40bbe1-fcd0-462c-aa0a-e4587f5743cf",
   "metadata": {},
   "outputs": [],
   "source": [
    "retail_sales = pd.read_csv(\"../data/raw/retail_sales_dataset.csv\")"
   ]
  },
  {
   "cell_type": "markdown",
   "id": "f831cdcc-1d73-4bf3-9e20-f2c66fdd9fe0",
   "metadata": {},
   "source": [
    "The raw dataset is sourced from [kaggle](https://www.kaggle.com/datasets/mohammadtalib786/retail-sales-dataset/data). This dataset provides a fictional retail landscape, providing data about the retail sales and customers data. This dataset allows us to analyze retail sales patterns and customer demographics to understand purchasing behaviors. Through this analysis, we can identify trends, gain insights into customer preferences, and explore key factors that impact retail performance."
   ]
  },
  {
   "cell_type": "code",
   "execution_count": 3,
   "id": "1d2a4232-678e-4ef6-b4d0-085dd1a8099e",
   "metadata": {},
   "outputs": [
    {
     "data": {
      "text/html": [
       "<div>\n",
       "<style scoped>\n",
       "    .dataframe tbody tr th:only-of-type {\n",
       "        vertical-align: middle;\n",
       "    }\n",
       "\n",
       "    .dataframe tbody tr th {\n",
       "        vertical-align: top;\n",
       "    }\n",
       "\n",
       "    .dataframe thead th {\n",
       "        text-align: right;\n",
       "    }\n",
       "</style>\n",
       "<table border=\"1\" class=\"dataframe\">\n",
       "  <thead>\n",
       "    <tr style=\"text-align: right;\">\n",
       "      <th></th>\n",
       "      <th>Transaction ID</th>\n",
       "      <th>Date</th>\n",
       "      <th>Customer ID</th>\n",
       "      <th>Gender</th>\n",
       "      <th>Age</th>\n",
       "      <th>Product Category</th>\n",
       "      <th>Quantity</th>\n",
       "      <th>Price per Unit</th>\n",
       "      <th>Total Amount</th>\n",
       "    </tr>\n",
       "  </thead>\n",
       "  <tbody>\n",
       "    <tr>\n",
       "      <th>0</th>\n",
       "      <td>1</td>\n",
       "      <td>2023-11-24</td>\n",
       "      <td>CUST001</td>\n",
       "      <td>Male</td>\n",
       "      <td>34</td>\n",
       "      <td>Beauty</td>\n",
       "      <td>3</td>\n",
       "      <td>50</td>\n",
       "      <td>150</td>\n",
       "    </tr>\n",
       "    <tr>\n",
       "      <th>1</th>\n",
       "      <td>2</td>\n",
       "      <td>2023-02-27</td>\n",
       "      <td>CUST002</td>\n",
       "      <td>Female</td>\n",
       "      <td>26</td>\n",
       "      <td>Clothing</td>\n",
       "      <td>2</td>\n",
       "      <td>500</td>\n",
       "      <td>1000</td>\n",
       "    </tr>\n",
       "    <tr>\n",
       "      <th>2</th>\n",
       "      <td>3</td>\n",
       "      <td>2023-01-13</td>\n",
       "      <td>CUST003</td>\n",
       "      <td>Male</td>\n",
       "      <td>50</td>\n",
       "      <td>Electronics</td>\n",
       "      <td>1</td>\n",
       "      <td>30</td>\n",
       "      <td>30</td>\n",
       "    </tr>\n",
       "    <tr>\n",
       "      <th>3</th>\n",
       "      <td>4</td>\n",
       "      <td>2023-05-21</td>\n",
       "      <td>CUST004</td>\n",
       "      <td>Male</td>\n",
       "      <td>37</td>\n",
       "      <td>Clothing</td>\n",
       "      <td>1</td>\n",
       "      <td>500</td>\n",
       "      <td>500</td>\n",
       "    </tr>\n",
       "    <tr>\n",
       "      <th>4</th>\n",
       "      <td>5</td>\n",
       "      <td>2023-05-06</td>\n",
       "      <td>CUST005</td>\n",
       "      <td>Male</td>\n",
       "      <td>30</td>\n",
       "      <td>Beauty</td>\n",
       "      <td>2</td>\n",
       "      <td>50</td>\n",
       "      <td>100</td>\n",
       "    </tr>\n",
       "  </tbody>\n",
       "</table>\n",
       "</div>"
      ],
      "text/plain": [
       "   Transaction ID        Date Customer ID  Gender  Age Product Category  \\\n",
       "0               1  2023-11-24     CUST001    Male   34           Beauty   \n",
       "1               2  2023-02-27     CUST002  Female   26         Clothing   \n",
       "2               3  2023-01-13     CUST003    Male   50      Electronics   \n",
       "3               4  2023-05-21     CUST004    Male   37         Clothing   \n",
       "4               5  2023-05-06     CUST005    Male   30           Beauty   \n",
       "\n",
       "   Quantity  Price per Unit  Total Amount  \n",
       "0         3              50           150  \n",
       "1         2             500          1000  \n",
       "2         1              30            30  \n",
       "3         1             500           500  \n",
       "4         2              50           100  "
      ]
     },
     "execution_count": 3,
     "metadata": {},
     "output_type": "execute_result"
    }
   ],
   "source": [
    "retail_sales.head()"
   ]
  },
  {
   "cell_type": "markdown",
   "id": "a413f4be-ddd8-495d-918c-75f145fb123d",
   "metadata": {},
   "source": [
    "### **Attributes**\n",
    "\n",
    "- **`Transaction ID`**: Unique identifier for each transaction.  \n",
    "- **`Date`**: The date on which the transaction occurred.  \n",
    "- **`Customer ID`**: Unique identifier assigned to each customer.  \n",
    "- **`Gender`**: Gender of the customer (e.g., Male, Female, etc.).  \n",
    "- **`Age`**: Age of the customer at the time of the transaction.  \n",
    "- **`Product Category`**: Category or type of product purchased.  \n",
    "- **`Quantity`**: Number of units of the product purchased in a single transaction.  \n",
    "- **`Price per Unit`**: Cost of a single unit of the product.  \n",
    "- **`Total Amount`**: Total cost of the transaction, calculated as **`Quantity`** * **`Price per Unit`**"
   ]
  },
  {
   "cell_type": "markdown",
   "id": "a7dd5a56-8180-4864-bdb5-838c3c76e137",
   "metadata": {},
   "source": [
    "## 2.2 Data Cleaning"
   ]
  },
  {
   "cell_type": "markdown",
   "id": "bb507b06-9eea-4e16-b131-92e9ca4ffe42",
   "metadata": {},
   "source": [
    "### 2.2.1 Transform columns name into lowercase snake format"
   ]
  },
  {
   "cell_type": "markdown",
   "id": "aa2de19b-8c39-445b-a498-7ff4a33aa78e",
   "metadata": {},
   "source": [
    "**Before Transformation**"
   ]
  },
  {
   "cell_type": "code",
   "execution_count": 4,
   "id": "ee6ac82c-867c-4f4b-aef5-61e82f1b23ef",
   "metadata": {},
   "outputs": [
    {
     "data": {
      "text/plain": [
       "Index(['Transaction ID', 'Date', 'Customer ID', 'Gender', 'Age',\n",
       "       'Product Category', 'Quantity', 'Price per Unit', 'Total Amount'],\n",
       "      dtype='object')"
      ]
     },
     "execution_count": 4,
     "metadata": {},
     "output_type": "execute_result"
    }
   ],
   "source": [
    "retail_sales.columns"
   ]
  },
  {
   "cell_type": "markdown",
   "id": "38ada091-01a3-4647-837a-cbc2f3ffeba3",
   "metadata": {},
   "source": [
    "**Transformation**"
   ]
  },
  {
   "cell_type": "code",
   "execution_count": 5,
   "id": "7ad26b3c-805d-44cb-bdea-e5a1c010852a",
   "metadata": {},
   "outputs": [],
   "source": [
    "retail_sales.columns = retail_sales.columns.str.lower().str.replace(' ', '_')"
   ]
  },
  {
   "cell_type": "markdown",
   "id": "5b8ae559-7f4e-42e3-839e-3085578c5655",
   "metadata": {},
   "source": [
    "**After Transformation**"
   ]
  },
  {
   "cell_type": "code",
   "execution_count": 6,
   "id": "2f226363-d983-4710-adaa-0f1c47d4ffe1",
   "metadata": {},
   "outputs": [
    {
     "data": {
      "text/plain": [
       "Index(['transaction_id', 'date', 'customer_id', 'gender', 'age',\n",
       "       'product_category', 'quantity', 'price_per_unit', 'total_amount'],\n",
       "      dtype='object')"
      ]
     },
     "execution_count": 6,
     "metadata": {},
     "output_type": "execute_result"
    }
   ],
   "source": [
    "retail_sales.columns"
   ]
  },
  {
   "cell_type": "markdown",
   "id": "5bf77ada-2abb-4e5a-9191-f5ade8a6b4da",
   "metadata": {},
   "source": [
    "The column names are transformed into lower case snake_case format (e.g., from `Product Category` to `product_category`). This standardization simplifies data wrangling by ensuring the column names are consistent, easy to reference, and compatible with common data manipulation workflows."
   ]
  },
  {
   "cell_type": "markdown",
   "id": "47583c97-9cbf-4bcb-a0ed-3c23a9643a24",
   "metadata": {},
   "source": [
    "### 2.2.2 Convert columns data type"
   ]
  },
  {
   "cell_type": "code",
   "execution_count": 7,
   "id": "ef8d9400-b6dc-452a-a9e7-91c91e3340a9",
   "metadata": {},
   "outputs": [],
   "source": [
    "# Change date data type to datetime\n",
    "retail_sales[\"date\"] = pd.to_datetime(retail_sales[\"date\"], format=\"%Y-%m-%d\")\n",
    "\n",
    "# Change gender data type to category\n",
    "retail_sales[\"gender\"] = retail_sales[\"gender\"].astype(\"category\")\n",
    "\n",
    "# Change product_category data type to category\n",
    "retail_sales[\"product_category\"] = retail_sales[\"product_category\"].astype(\"category\")"
   ]
  },
  {
   "cell_type": "markdown",
   "id": "ee11da5c-1020-4cbf-8c20-5860f7e41ce0",
   "metadata": {},
   "source": [
    "The objectives of the data type conversions are as follows:  \n",
    "- **Convert `date` from `string` to `date`**: This enables efficient datetime operations and allows for easier analysis of time-based trends.  \n",
    "- **Convert `gender` and `product_category` from `string` to `category`**: This improves performance by optimizing memory usage, as these columns have a limited number of unique values."
   ]
  },
  {
   "cell_type": "markdown",
   "id": "2e886d85-06f1-4f29-a31f-e7e824cb4f7b",
   "metadata": {},
   "source": [
    "## 2.3 Cleaned Dataset"
   ]
  },
  {
   "cell_type": "code",
   "execution_count": 8,
   "id": "f67a3f36-e158-42a6-a9a5-80ec5a1acb1f",
   "metadata": {},
   "outputs": [
    {
     "data": {
      "text/html": [
       "<div>\n",
       "<style scoped>\n",
       "    .dataframe tbody tr th:only-of-type {\n",
       "        vertical-align: middle;\n",
       "    }\n",
       "\n",
       "    .dataframe tbody tr th {\n",
       "        vertical-align: top;\n",
       "    }\n",
       "\n",
       "    .dataframe thead th {\n",
       "        text-align: right;\n",
       "    }\n",
       "</style>\n",
       "<table border=\"1\" class=\"dataframe\">\n",
       "  <thead>\n",
       "    <tr style=\"text-align: right;\">\n",
       "      <th></th>\n",
       "      <th>transaction_id</th>\n",
       "      <th>date</th>\n",
       "      <th>customer_id</th>\n",
       "      <th>gender</th>\n",
       "      <th>age</th>\n",
       "      <th>product_category</th>\n",
       "      <th>quantity</th>\n",
       "      <th>price_per_unit</th>\n",
       "      <th>total_amount</th>\n",
       "    </tr>\n",
       "  </thead>\n",
       "  <tbody>\n",
       "    <tr>\n",
       "      <th>0</th>\n",
       "      <td>1</td>\n",
       "      <td>2023-11-24</td>\n",
       "      <td>CUST001</td>\n",
       "      <td>Male</td>\n",
       "      <td>34</td>\n",
       "      <td>Beauty</td>\n",
       "      <td>3</td>\n",
       "      <td>50</td>\n",
       "      <td>150</td>\n",
       "    </tr>\n",
       "    <tr>\n",
       "      <th>1</th>\n",
       "      <td>2</td>\n",
       "      <td>2023-02-27</td>\n",
       "      <td>CUST002</td>\n",
       "      <td>Female</td>\n",
       "      <td>26</td>\n",
       "      <td>Clothing</td>\n",
       "      <td>2</td>\n",
       "      <td>500</td>\n",
       "      <td>1000</td>\n",
       "    </tr>\n",
       "    <tr>\n",
       "      <th>2</th>\n",
       "      <td>3</td>\n",
       "      <td>2023-01-13</td>\n",
       "      <td>CUST003</td>\n",
       "      <td>Male</td>\n",
       "      <td>50</td>\n",
       "      <td>Electronics</td>\n",
       "      <td>1</td>\n",
       "      <td>30</td>\n",
       "      <td>30</td>\n",
       "    </tr>\n",
       "    <tr>\n",
       "      <th>3</th>\n",
       "      <td>4</td>\n",
       "      <td>2023-05-21</td>\n",
       "      <td>CUST004</td>\n",
       "      <td>Male</td>\n",
       "      <td>37</td>\n",
       "      <td>Clothing</td>\n",
       "      <td>1</td>\n",
       "      <td>500</td>\n",
       "      <td>500</td>\n",
       "    </tr>\n",
       "    <tr>\n",
       "      <th>4</th>\n",
       "      <td>5</td>\n",
       "      <td>2023-05-06</td>\n",
       "      <td>CUST005</td>\n",
       "      <td>Male</td>\n",
       "      <td>30</td>\n",
       "      <td>Beauty</td>\n",
       "      <td>2</td>\n",
       "      <td>50</td>\n",
       "      <td>100</td>\n",
       "    </tr>\n",
       "  </tbody>\n",
       "</table>\n",
       "</div>"
      ],
      "text/plain": [
       "   transaction_id       date customer_id  gender  age product_category  \\\n",
       "0               1 2023-11-24     CUST001    Male   34           Beauty   \n",
       "1               2 2023-02-27     CUST002  Female   26         Clothing   \n",
       "2               3 2023-01-13     CUST003    Male   50      Electronics   \n",
       "3               4 2023-05-21     CUST004    Male   37         Clothing   \n",
       "4               5 2023-05-06     CUST005    Male   30           Beauty   \n",
       "\n",
       "   quantity  price_per_unit  total_amount  \n",
       "0         3              50           150  \n",
       "1         2             500          1000  \n",
       "2         1              30            30  \n",
       "3         1             500           500  \n",
       "4         2              50           100  "
      ]
     },
     "execution_count": 8,
     "metadata": {},
     "output_type": "execute_result"
    }
   ],
   "source": [
    "retail_sales.head()"
   ]
  },
  {
   "cell_type": "markdown",
   "id": "fe179623-a1f0-4f2b-a287-fcaacd1f6b01",
   "metadata": {},
   "source": [
    "### **Attributes**  \n",
    "\n",
    "- **`transaction_id`**: Unique identifier for each transaction.  \n",
    "- **`date`**: The date on which the transaction occurred.  \n",
    "- **`customer_id`**: Unique identifier assigned to each customer.  \n",
    "- **`gender`**: Gender of the customer (e.g., Male, Female, etc.).  \n",
    "- **`age`**: Age of the customer at the time of the transaction.  \n",
    "- **`product_category`**: Category or type of product purchased.  \n",
    "- **`quantity`**: Number of units of the product purchased in a single transaction.  \n",
    "- **`price_per_unit`**: Cost of a single unit of the product.  \n",
    "- **`total_amount`**: Total cost of the transaction, calculated as **`quantity`** * **`price_per_unit`**.  "
   ]
  },
  {
   "cell_type": "markdown",
   "id": "268b76d3-44b9-4144-bb6d-a0114bfdfbcc",
   "metadata": {},
   "source": [
    "# 3. Exploratory Data Analysis (EDA) Insights"
   ]
  },
  {
   "cell_type": "markdown",
   "id": "1c471dda-2a2b-4c8f-b385-c6c244ef6059",
   "metadata": {},
   "source": [
    "## 3.1 Customer Demographics"
   ]
  },
  {
   "cell_type": "markdown",
   "id": "cf60615d-b803-4398-bf18-0b26665c5831",
   "metadata": {},
   "source": [
    "<img src=\"../plots/customers_gender_proportion.png\" alt=\"Customer Gender Proportion\" width=\"400\" height=\"300\">"
   ]
  },
  {
   "cell_type": "markdown",
   "id": "c69d0cb7-33ad-4775-86e8-b49b739c256d",
   "metadata": {},
   "source": [
    "- The blue section represents female customers, making up 51.00% of the total customer base.\n",
    "\n",
    "- The orange section represents male customers, making up 49.00% of the total customer base."
   ]
  },
  {
   "cell_type": "markdown",
   "id": "bc47d4dc-ec13-4d96-92db-cb3be6115b9c",
   "metadata": {},
   "source": [
    "<img src=\"../plots/customers_age_distribution.png\" alt=\"Customer Age Distribution\" width=\"400\" height=\"300\">"
   ]
  },
  {
   "cell_type": "code",
   "execution_count": 9,
   "id": "b27fb09b-b531-4340-a242-83bae422aa1a",
   "metadata": {},
   "outputs": [
    {
     "data": {
      "text/plain": [
       "count    1000.00000\n",
       "mean       41.39200\n",
       "std        13.68143\n",
       "min        18.00000\n",
       "25%        29.00000\n",
       "50%        42.00000\n",
       "75%        53.00000\n",
       "max        64.00000\n",
       "Name: age, dtype: float64"
      ]
     },
     "execution_count": 9,
     "metadata": {},
     "output_type": "execute_result"
    }
   ],
   "source": [
    "retail_sales[\"age\"].describe()"
   ]
  },
  {
   "cell_type": "markdown",
   "id": "2774f9f3-7152-44f7-aa53-a14cefb03c4a",
   "metadata": {},
   "source": [
    "- X-axis: Age groups in intervals of four years, ranging from 18 to 64.\n",
    "- Y-axis: Frequency of customers in each age group, with values ranging from 0 to 100.\n",
    "- The customer age distribution is relatively even, with the **youngest customer being 18 years old** and the **oldest customer being 64 years old**. The **average customer age is 42 years**."
   ]
  },
  {
   "cell_type": "markdown",
   "id": "ebd54b66-09f1-4495-a6a1-ca6db45d72be",
   "metadata": {},
   "source": [
    "## 3.2 Product's Description"
   ]
  },
  {
   "cell_type": "markdown",
   "id": "3a416406-16ba-46f6-a60b-3c19043976de",
   "metadata": {},
   "source": [
    "<img src=\"../plots/total_quantity_by_product_category.png\" alt=\"Total Quantity By Product Category Plot\" width=\"400\" height=\"300\">"
   ]
  },
  {
   "cell_type": "markdown",
   "id": "60b7c930-081a-4be8-bc2b-442c4df80a85",
   "metadata": {},
   "source": [
    "- The products are grouped into three main categories: clothing, electronics, and beauty products. In terms of popularity based on quantity sold, clothing tops the list with 894 units, followed by electronics with 849 units, and beauty products with 771 units."
   ]
  },
  {
   "cell_type": "code",
   "execution_count": 10,
   "id": "c1db0a73-7a59-4d9a-a0d0-8beaee0c7c88",
   "metadata": {},
   "outputs": [
    {
     "data": {
      "text/html": [
       "<div>\n",
       "<style scoped>\n",
       "    .dataframe tbody tr th:only-of-type {\n",
       "        vertical-align: middle;\n",
       "    }\n",
       "\n",
       "    .dataframe tbody tr th {\n",
       "        vertical-align: top;\n",
       "    }\n",
       "\n",
       "    .dataframe thead th {\n",
       "        text-align: right;\n",
       "    }\n",
       "</style>\n",
       "<table border=\"1\" class=\"dataframe\">\n",
       "  <thead>\n",
       "    <tr style=\"text-align: right;\">\n",
       "      <th></th>\n",
       "      <th>min</th>\n",
       "      <th>25%</th>\n",
       "      <th>50%</th>\n",
       "      <th>75%</th>\n",
       "      <th>max</th>\n",
       "    </tr>\n",
       "    <tr>\n",
       "      <th>product_category</th>\n",
       "      <th></th>\n",
       "      <th></th>\n",
       "      <th></th>\n",
       "      <th></th>\n",
       "      <th></th>\n",
       "    </tr>\n",
       "  </thead>\n",
       "  <tbody>\n",
       "    <tr>\n",
       "      <th>Beauty</th>\n",
       "      <td>25.0</td>\n",
       "      <td>30.0</td>\n",
       "      <td>50.0</td>\n",
       "      <td>300.0</td>\n",
       "      <td>500.0</td>\n",
       "    </tr>\n",
       "    <tr>\n",
       "      <th>Clothing</th>\n",
       "      <td>25.0</td>\n",
       "      <td>30.0</td>\n",
       "      <td>50.0</td>\n",
       "      <td>300.0</td>\n",
       "      <td>500.0</td>\n",
       "    </tr>\n",
       "    <tr>\n",
       "      <th>Electronics</th>\n",
       "      <td>25.0</td>\n",
       "      <td>30.0</td>\n",
       "      <td>50.0</td>\n",
       "      <td>300.0</td>\n",
       "      <td>500.0</td>\n",
       "    </tr>\n",
       "  </tbody>\n",
       "</table>\n",
       "</div>"
      ],
      "text/plain": [
       "                   min   25%   50%    75%    max\n",
       "product_category                                \n",
       "Beauty            25.0  30.0  50.0  300.0  500.0\n",
       "Clothing          25.0  30.0  50.0  300.0  500.0\n",
       "Electronics       25.0  30.0  50.0  300.0  500.0"
      ]
     },
     "execution_count": 10,
     "metadata": {},
     "output_type": "execute_result"
    }
   ],
   "source": [
    "retail_sales.groupby(\"product_category\", observed=False)[\"price_per_unit\"].describe()[[\"min\", \"25%\", \"50%\", \"75%\", \"max\"]]"
   ]
  },
  {
   "cell_type": "markdown",
   "id": "00b898cc-7c4f-4e07-9ea6-a4e4a293bf1e",
   "metadata": {},
   "source": [
    "- The prices per product across all product categories are relatively similar. Ranging from 25 to 500"
   ]
  },
  {
   "cell_type": "markdown",
   "id": "9628f842-1d0f-4013-bd39-79305a244edf",
   "metadata": {},
   "source": [
    "<img src=\"../plots/total_revenue_per_product_category.png\" alt=\"Total Revenue Per Product Category Plot\" width=\"400\" height=\"300\">"
   ]
  },
  {
   "cell_type": "markdown",
   "id": "3007a2ec-38b2-4391-a250-19a7f9a9efb4",
   "metadata": {},
   "source": [
    "- Electronics generate the highest revenue at 156,905.00, followed by clothing at 155,580.00, and beauty products at 143,515.00."
   ]
  },
  {
   "cell_type": "markdown",
   "id": "9090f59f-a677-4338-bb86-2f32709b2953",
   "metadata": {},
   "source": [
    "## 3.3 Customer Purchase Behaviour"
   ]
  },
  {
   "cell_type": "markdown",
   "id": "7c712f4f-2552-4079-a7c6-da46331496c7",
   "metadata": {},
   "source": [
    "<img src=\"../plots/total_amount_distribution.png\" alt=\"Total Amount Of Purchase Distribution\" width=\"400\" height=\"300\">"
   ]
  },
  {
   "cell_type": "markdown",
   "id": "852bd69a-15a7-4c48-864b-31ca8702cbab",
   "metadata": {},
   "source": [
    "- X-axis: Total amount of purchase.\n",
    "- Y-axis: Frequency of each total purchase amount.\n",
    "- The chart shows that the majority of purchases are clustered at the lower end of the scale, specifically at the purchase amount of 25, which has the highest frequency of 542. There’s a notable drop in frequency as the purchase amount increases, with many higher amounts having a frequency of 0."
   ]
  },
  {
   "cell_type": "markdown",
   "id": "113418c5-c578-48c2-acf0-505bd020cda7",
   "metadata": {},
   "source": [
    "<img src=\"../plots/average_quantity_by_product_category_and_gender.png\" alt=\"Average Quantity By Product Category And Gender\" width=\"400\" height=\"300\">"
   ]
  },
  {
   "cell_type": "markdown",
   "id": "73bd324f-aedf-496c-a051-0f83b223c9dc",
   "metadata": {},
   "source": [
    "- This bar graph shows the average quantity of products purchased in three categories: Beauty, Clothing, and Electronics, separated by gender (Female and Male).\n",
    "  \n",
    "Here are the specific values for each category:\n",
    "- Beauty: Females (2.52), Males (2.50)\n",
    "- Clothing: Females (2.53), Males (2.56)\n",
    "- Electronics: Females (2.58), Males (2.38)\n",
    "\n",
    "Females purchase slightly more quantity of Beauty and Electronics products on average. Males purchase slightly more quantity of Clothing products on average."
   ]
  },
  {
   "cell_type": "markdown",
   "id": "0f8d7ae2-0b31-4fa7-ab40-5660e639cb89",
   "metadata": {},
   "source": [
    "<img src=\"../plots/average_purchase_by_product_category_and_gender.png\" alt=\"Average Purchase By Product Category And Gender\" width=\"400\" height=\"300\">"
   ]
  },
  {
   "cell_type": "markdown",
   "id": "fe81b850-aa83-419c-8dec-473fd863d724",
   "metadata": {},
   "source": [
    "This bar graph shows the average purchase amounts for three product categories (Beauty, Clothing, and Electronics), broken down by gender (Female and Male).\n",
    "\n",
    "- Beauty Products: Males spend slightly more on average (194.58) compared to females (179.02).\n",
    "\n",
    "- Clothing: Females spend more on average (184.30) compared to males (164.03).\n",
    "\n",
    "- Electronics: Males spend more on average (195.54) compared to females (174.79)."
   ]
  },
  {
   "cell_type": "markdown",
   "id": "888b3444-e4c9-4c0d-afd1-4bcdeb22d830",
   "metadata": {},
   "source": [
    "## 3.4 Seasonal Sales Pattern Analysis"
   ]
  },
  {
   "cell_type": "markdown",
   "id": "23a4aa41-2a3b-406f-8698-036f8169c5b2",
   "metadata": {},
   "source": [
    "<img src=\"../plots/monthly_sales_with_average.png\" alt=\"Monthly Sales With Average\" width=\"400\" height=\"300\">"
   ]
  },
  {
   "cell_type": "markdown",
   "id": "0577d294-f478-4ea2-bccc-c23cd3c63e9f",
   "metadata": {},
   "source": [
    "**Peaks:**\n",
    "- **February**: Increase in sales.\n",
    "- **May**: Significant peak in sales.\n",
    "- **October**: Sales rise again.\n",
    "- **December**: Notable increase in sales.\n",
    "\n",
    "**Drops:**\n",
    "- **March**: Noticeable drop in sales.\n",
    "- **September**: Significant decline in sales.\n",
    "\n",
    "**Seasonal Patterns:**\n",
    "- The peaks in **February**, **May**, **October**, and **December** suggest seasonal trends. These months might coincide with specific events, holidays, or marketing campaigns that drive higher sales.\n",
    "- The significant sales increase in **December** could be attributed to holiday shopping and year-end promotions.\n",
    "- The peak in **May** might be related to spring sales or special events like Mother's Day.\n",
    "\n",
    "**Drops Analysis:**\n",
    "- The **March** drop might indicate a post-holiday slump or the end of winter promotions.\n",
    "- The decline in **September** could be due to the end of summer vacations and back-to-school expenses, causing lower discretionary spending."
   ]
  },
  {
   "cell_type": "markdown",
   "id": "005018e7-87a6-4115-b1b9-b12d581fea8b",
   "metadata": {},
   "source": [
    "<img src=\"../plots/monthly_sales_for_each_product_category.png\" alt=\"Monthly Sales For Each Product\" width=\"400\" height=\"300\">"
   ]
  },
  {
   "cell_type": "markdown",
   "id": "e9b5b001-a8be-484e-9a86-1f602cd69eca",
   "metadata": {},
   "source": [
    " **Electronics**:\n",
    " - The peaks in April, July, and December suggest strong seasonal or promotional factors. For instance, April could be influenced by tax refunds, July by mid-year sales, and December by holiday shopping.\n",
    "\n",
    "- The drops in March, June, and September might indicate off-peak periods where fewer promotions or events drive sales.\n",
    "\n",
    "**Clothing**:\n",
    "- The relatively stable sales indicate consistent demand throughout the year. Minor fluctuations could be attributed to seasonal changes in fashion trends or specific marketing campaigns.\n",
    "\n",
    "**Beauty**:\n",
    "- The peaks in February, July, and November suggest increased demand during specific times. February could be linked to Valentine's Day, July to summer promotions, and November to pre-holiday shopping.\n",
    "\n",
    "- The drops in March, June, and September could indicate periods of lower consumer interest or fewer promotional activities."
   ]
  },
  {
   "cell_type": "markdown",
   "id": "62c02789-e242-4a80-a43a-cbdbcaee4859",
   "metadata": {},
   "source": [
    "# 4. Key Findings And Insights"
   ]
  },
  {
   "cell_type": "markdown",
   "id": "4a32d06f-cb21-462f-823c-a71d117f8f6f",
   "metadata": {},
   "source": [
    "### **Retail Products** \n",
    "\n",
    "The products are categorized into three main groups: clothing, electronics, and beauty products, with prices spanning a wide range from 25 to 500 across all categories.\n",
    "\n",
    "### **Customer Behaviour** \n",
    "\n",
    "The customer base is well-balanced in terms of gender, with approximately half female and half male. Additionally, the age distribution is diverse, ranging from 18 to 64 years old. \n",
    "\n",
    "the majority of purchases are clustered at the lower end of the scale, specifically at the purchase amount of 25 to 190. There’s a notable drop in frequency as the purchase amount increases, with many higher amounts having a frequency of 0. \n",
    "\n",
    "There are noticeable differences in purchasing behavior between males and females. On average, females tend to purchase slightly higher quantities of Beauty and Electronics products, while males show a preference for slightly higher quantities of Clothing products. \n",
    "\n",
    "In terms of spending, there are distinct patterns between males and females across product categories. For Beauty products, males spend slightly more on average (194.58) compared to females (179.02). Conversely, females outspend males on Clothing, with an average spend of 184.30 compared to 164.03. For Electronics, males again lead, spending an average of 195.54, while females spend 174.79 on average. These differences highlight varying preferences and purchasing behaviors between genders. \n",
    "\n",
    "### **Seasonal Findings**\n",
    "The sales data reveals distinct trends and patterns over the year. Notable sales peaks occurred in January, May, October, and December, suggesting possible seasonal influences such as holidays, special events, or marketing campaigns. December stands out with a significant increase in sales, likely driven by holiday shopping and year-end promotions, while the May peak might coincide with spring sales or events like Mother's Day. Conversely, sales experienced notable drops in March and September. The March decline may reflect a post-holiday slump or the end of winter promotions, whereas September's drop could be attributed to reduced discretionary spending following summer vacations and back-to-school expenses. The red dashed line representing the average monthly sales, 37,872.50, helps contextualize these fluctuations, showing how each month's performance compares to the overall trend. \n",
    "\n",
    "Sales patterns across different product categories reveal interesting seasonal trends and consumer behavior. In the electronics sector, there are significant sales spikes in April, July, and December, likely driven by seasonal or promotional factors—April might benefit from tax refunds, July from mid-year sales, and December from holiday shopping. Conversely, sales in March, June, and September experience notable declines, possibly reflecting off-peak periods with fewer promotions or events. In the clothing category, sales remain relatively stable throughout the year with only minor fluctuations, suggesting consistent demand with slight variations due to changing fashion trends or targeted marketing campaigns. The beauty industry sees increased sales in February, July, and November, which could be tied to events like Valentine's Day, summer promotions, and pre-holiday shopping. However, like electronics, beauty sales dip in March, June, and September, potentially due to lower consumer interest or fewer promotions during these months. These insights highlight the impact of seasonality and marketing activities in driving sales across different industries."
   ]
  },
  {
   "cell_type": "markdown",
   "id": "1bb038cb-64aa-42bd-bc00-14b5ca831d22",
   "metadata": {},
   "source": [
    "# 5. Reccomendations For Business Strategy"
   ]
  },
  {
   "cell_type": "markdown",
   "id": "f930c86d-2f3f-4bd1-8249-17c4c30208b4",
   "metadata": {},
   "source": [
    "### 1. **Gender-Specific Marketing Strategies:**\n",
    "   - **Female Customers:**\n",
    "     - **Beauty Products**: Since females tend to purchase slightly higher quantities and spend significantly on beauty products, targeted marketing campaigns for beauty products can be more effective. Consider personalized offers, loyalty programs, and collaborations with influencers to attract and retain female customers.\n",
    "     - **Clothing**: Given that females outspend males on clothing, the business should emphasize marketing clothing products to female customers. Seasonal promotions, trend-based collections, and exclusive discounts can enhance engagement.\n",
    "   - **Male Customers:**\n",
    "     - **Electronics**: Males spend significantly more on electronics. Implement marketing strategies focusing on electronics, such as tech reviews, product demonstrations, and bundles during peak sales periods like April, July, and December.\n",
    "     - **Beauty Products**: With males also showing a strong interest in beauty products, consider marketing specific beauty products to men through targeted ads and promoting grooming and self-care routines.\n",
    "\n",
    "### 2. **Pricing and Promotion Strategies:**\n",
    "   - **Low Purchase Amounts**: Since the majority of purchases are clustered at lower purchase amounts (25 to 190), consider optimizing pricing strategies for this range to attract more customers. Implementing discounts, bundling products, and offering free shipping for purchases within this range can incentivize more sales.\n",
    "   - **High Purchase Amounts**: For higher purchase amounts, introducing loyalty programs or incentives, such as cashback offers, membership benefits, or installment payment options, can encourage customers to spend more.\n",
    "\n",
    "### 3. **Seasonal and Event-Based Promotions:**\n",
    "   - **Peak Months**: Leverage the sales peaks in February, May, October, and December by running targeted marketing campaigns, special offers, and events. For example, during December, focus on holiday shopping and gift guides, while May can highlight spring sales or events like Mother's Day.\n",
    "   - **Drop Months**: To address drops in March and September, introduce promotions or events to boost sales. For example, end-of-winter clearance sales in March and back-to-school promotions in September can drive customer interest.\n",
    "\n",
    "### 4. **Category-Specific Strategies:**\n",
    "   - **Electronics**: Focus on promotional events in April, July, and December when sales peak. Additionally, identify reasons for the drop in March, June, and September, and implement strategies to counteract these declines.\n",
    "   - **Clothing**: Maintain consistent engagement with customers throughout the year. Introduce new collections, fashion trends, and limited-time offers to keep customer interest high.\n",
    "   - **Beauty**: Increase marketing efforts in February (Valentine's Day), July (summer promotions), and November (pre-holiday shopping). Address drops in March, June, and September with targeted promotions and new product launches.\n",
    "\n",
    "### 5. **Customer Engagement and Feedback:**\n",
    "   - **Understanding Preferences**: Engage with customers through surveys, feedback forms, and social media interactions to better understand their preferences and purchasing behavior. Use this information to tailor marketing campaigns and product offerings.\n",
    "   - **Personalization**: Utilize customer data to create personalized shopping experiences, recommendations, and offers. Personalized emails, targeted ads, and curated product suggestions can enhance customer satisfaction and loyalty.\n",
    "\n",
    "By implementing these strategies, the business can optimize sales performance, enhance customer engagement, and better align product offerings with customer preferences throughout the year. If you need further analysis or have specific questions, feel free to ask!"
   ]
  },
  {
   "cell_type": "markdown",
   "id": "8759a031-bb95-4bba-9bbc-0cd989d036b9",
   "metadata": {},
   "source": [
    "# 6. Challenges And Limitations"
   ]
  },
  {
   "cell_type": "markdown",
   "id": "a77685cc-a120-4176-a658-4849d2cdf5ad",
   "metadata": {},
   "source": [
    "The dataset lacks information on the country in which the retail sales are located. Since each country has its own specific holidays and seasons, this information could significantly influence seasonal and time-series analysis, offering valuable insights for a more accurate analysis. Additionally, the absence of details regarding the currency used poses a challenge in interpreting the price data accurately.\n",
    "\n",
    "The product prices in the dataset are limited to only five unique values, which may not accurately reflect real-world pricing scenarios in retail.\n",
    "\n",
    "Furthermore, more detailed information about the products would be beneficial, such as the brand and specific type of product, to provide a more comprehensive understanding of the data."
   ]
  }
 ],
 "metadata": {
  "kernelspec": {
   "display_name": "Python 3 (ipykernel)",
   "language": "python",
   "name": "python3"
  },
  "language_info": {
   "codemirror_mode": {
    "name": "ipython",
    "version": 3
   },
   "file_extension": ".py",
   "mimetype": "text/x-python",
   "name": "python",
   "nbconvert_exporter": "python",
   "pygments_lexer": "ipython3",
   "version": "3.12.7"
  }
 },
 "nbformat": 4,
 "nbformat_minor": 5
}

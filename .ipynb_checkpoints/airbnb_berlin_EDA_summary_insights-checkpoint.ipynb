{
 "cells": [
  {
   "cell_type": "markdown",
   "id": "a94c13b1-958e-40e3-aeb1-9b39d1063b6a",
   "metadata": {},
   "source": [
    "# **Airbnb Berlin Listings Analysis : Summary and Insights**"
   ]
  },
  {
   "cell_type": "code",
   "execution_count": 1,
   "id": "a6143ba4-4a63-4cc1-875e-e69108b88b9e",
   "metadata": {},
   "outputs": [],
   "source": [
    "import pandas as pd\n",
    "import matplotlib.pyplot as plt\n",
    "import seaborn as sns"
   ]
  },
  {
   "cell_type": "markdown",
   "id": "314d975b-1d13-4c0b-966f-8b8f3fe9ddc6",
   "metadata": {},
   "source": [
    "## **1. Introduction**"
   ]
  },
  {
   "cell_type": "markdown",
   "id": "d7b59b05-a6ce-4ddc-807f-3059d0caa5a6",
   "metadata": {},
   "source": [
    "In this analysis, we explore the dataset of Airbnb listings to uncover key insights about pricing trends and geographical patterns in Berlin. The dataset includes various features such as price, location (latitude and longitude), and other attributes associated with each listing. Our goal is to understand factors like location and price relate to each other and identify significant insights from the data.\n",
    "\n",
    "Throughout this analysis, we perform data cleaning, exploratory data analysis (EDA), and visualizations to gain insights into the pricing, popular areas, and trends within the dataset. The analysis also investigates any potential relationships between some features mainly between the price and other attributes.\n",
    "\n",
    "The insights gathered from this analysis aim to help understanding pricing trends based on location."
   ]
  },
  {
   "cell_type": "markdown",
   "id": "d1b7f8ad-c618-4bc0-8714-30988eb52a91",
   "metadata": {},
   "source": [
    "## **2. Summary of the Dataset**"
   ]
  },
  {
   "cell_type": "code",
   "execution_count": 2,
   "id": "b60da27a-9b92-48a4-82ea-b5f23244d032",
   "metadata": {},
   "outputs": [],
   "source": [
    "# Load Dataset\n",
    "listings = pd.read_csv(\"data/raw/listings.csv\")"
   ]
  },
  {
   "cell_type": "markdown",
   "id": "31a80210-9d2d-40d8-8ef4-b52f19f2a625",
   "metadata": {},
   "source": [
    "The dataset used in this analysis is sourced from [Inside Airbnb](https://insideairbnb.com/get-the-data/), which provides publicly available data on Airbnb listings across various cities. The dataset specifically covers Airbnb listings in Berlin and contains several attributes related to the listings. There are three datasets that we retrieved from the source, but only the data set `listings.csv` is used for the analysis, which is located at `data/raw/listings.csv`. Below is a brief summary of the dataset "
   ]
  },
  {
   "cell_type": "markdown",
   "id": "fa1bfd07-e09d-430b-a7f1-35a49d6f84b2",
   "metadata": {
    "jp-MarkdownHeadingCollapsed": true
   },
   "source": [
    "### **2.1 Dataset Overview**"
   ]
  },
  {
   "cell_type": "code",
   "execution_count": 3,
   "id": "9be10714-8b0e-466e-9100-7c17594cc09e",
   "metadata": {},
   "outputs": [
    {
     "data": {
      "text/html": [
       "<div>\n",
       "<style scoped>\n",
       "    .dataframe tbody tr th:only-of-type {\n",
       "        vertical-align: middle;\n",
       "    }\n",
       "\n",
       "    .dataframe tbody tr th {\n",
       "        vertical-align: top;\n",
       "    }\n",
       "\n",
       "    .dataframe thead th {\n",
       "        text-align: right;\n",
       "    }\n",
       "</style>\n",
       "<table border=\"1\" class=\"dataframe\">\n",
       "  <thead>\n",
       "    <tr style=\"text-align: right;\">\n",
       "      <th></th>\n",
       "      <th>id</th>\n",
       "      <th>name</th>\n",
       "      <th>host_id</th>\n",
       "      <th>host_name</th>\n",
       "      <th>neighbourhood_group</th>\n",
       "      <th>neighbourhood</th>\n",
       "      <th>latitude</th>\n",
       "      <th>longitude</th>\n",
       "      <th>room_type</th>\n",
       "      <th>price</th>\n",
       "      <th>minimum_nights</th>\n",
       "      <th>number_of_reviews</th>\n",
       "      <th>last_review</th>\n",
       "      <th>reviews_per_month</th>\n",
       "      <th>calculated_host_listings_count</th>\n",
       "      <th>availability_365</th>\n",
       "      <th>number_of_reviews_ltm</th>\n",
       "      <th>license</th>\n",
       "    </tr>\n",
       "  </thead>\n",
       "  <tbody>\n",
       "    <tr>\n",
       "      <th>0</th>\n",
       "      <td>3176</td>\n",
       "      <td>Fabulous Flat in great Location</td>\n",
       "      <td>3718</td>\n",
       "      <td>Britta</td>\n",
       "      <td>Pankow</td>\n",
       "      <td>Prenzlauer Berg Südwest</td>\n",
       "      <td>52.53471</td>\n",
       "      <td>13.41810</td>\n",
       "      <td>Entire home/apt</td>\n",
       "      <td>105.0</td>\n",
       "      <td>63</td>\n",
       "      <td>148</td>\n",
       "      <td>2023-05-25</td>\n",
       "      <td>0.80</td>\n",
       "      <td>1</td>\n",
       "      <td>333</td>\n",
       "      <td>0</td>\n",
       "      <td>First name and Last name: Nicolas Krotz &lt;br/&gt; ...</td>\n",
       "    </tr>\n",
       "    <tr>\n",
       "      <th>1</th>\n",
       "      <td>9991</td>\n",
       "      <td>Geourgeous flat - outstanding views</td>\n",
       "      <td>33852</td>\n",
       "      <td>Philipp</td>\n",
       "      <td>Pankow</td>\n",
       "      <td>Prenzlauer Berg Südwest</td>\n",
       "      <td>52.53269</td>\n",
       "      <td>13.41805</td>\n",
       "      <td>Entire home/apt</td>\n",
       "      <td>180.0</td>\n",
       "      <td>6</td>\n",
       "      <td>7</td>\n",
       "      <td>2020-01-04</td>\n",
       "      <td>0.06</td>\n",
       "      <td>1</td>\n",
       "      <td>22</td>\n",
       "      <td>0</td>\n",
       "      <td>03/Z/RA/003410-18</td>\n",
       "    </tr>\n",
       "    <tr>\n",
       "      <th>2</th>\n",
       "      <td>14325</td>\n",
       "      <td>Studio Apartment in Prenzlauer Berg</td>\n",
       "      <td>55531</td>\n",
       "      <td>Chris + Oliver</td>\n",
       "      <td>Pankow</td>\n",
       "      <td>Prenzlauer Berg Nordwest</td>\n",
       "      <td>52.54813</td>\n",
       "      <td>13.40366</td>\n",
       "      <td>Entire home/apt</td>\n",
       "      <td>70.0</td>\n",
       "      <td>150</td>\n",
       "      <td>26</td>\n",
       "      <td>2023-11-30</td>\n",
       "      <td>0.15</td>\n",
       "      <td>4</td>\n",
       "      <td>270</td>\n",
       "      <td>1</td>\n",
       "      <td>NaN</td>\n",
       "    </tr>\n",
       "    <tr>\n",
       "      <th>3</th>\n",
       "      <td>16644</td>\n",
       "      <td>In the Heart of Berlin - Kreuzberg</td>\n",
       "      <td>64696</td>\n",
       "      <td>Rene</td>\n",
       "      <td>Friedrichshain-Kreuzberg</td>\n",
       "      <td>nördliche Luisenstadt</td>\n",
       "      <td>52.50312</td>\n",
       "      <td>13.43508</td>\n",
       "      <td>Entire home/apt</td>\n",
       "      <td>90.0</td>\n",
       "      <td>93</td>\n",
       "      <td>48</td>\n",
       "      <td>2017-12-14</td>\n",
       "      <td>0.28</td>\n",
       "      <td>2</td>\n",
       "      <td>17</td>\n",
       "      <td>0</td>\n",
       "      <td>NaN</td>\n",
       "    </tr>\n",
       "    <tr>\n",
       "      <th>4</th>\n",
       "      <td>17904</td>\n",
       "      <td>Beautiful Kreuzberg studio - 3 months minimum</td>\n",
       "      <td>68997</td>\n",
       "      <td>Matthias</td>\n",
       "      <td>Neukölln</td>\n",
       "      <td>Reuterstraße</td>\n",
       "      <td>52.49419</td>\n",
       "      <td>13.42166</td>\n",
       "      <td>Entire home/apt</td>\n",
       "      <td>28.0</td>\n",
       "      <td>92</td>\n",
       "      <td>299</td>\n",
       "      <td>2022-12-01</td>\n",
       "      <td>1.68</td>\n",
       "      <td>1</td>\n",
       "      <td>16</td>\n",
       "      <td>0</td>\n",
       "      <td>NaN</td>\n",
       "    </tr>\n",
       "  </tbody>\n",
       "</table>\n",
       "</div>"
      ],
      "text/plain": [
       "      id                                           name  host_id  \\\n",
       "0   3176                Fabulous Flat in great Location     3718   \n",
       "1   9991            Geourgeous flat - outstanding views    33852   \n",
       "2  14325            Studio Apartment in Prenzlauer Berg    55531   \n",
       "3  16644             In the Heart of Berlin - Kreuzberg    64696   \n",
       "4  17904  Beautiful Kreuzberg studio - 3 months minimum    68997   \n",
       "\n",
       "        host_name       neighbourhood_group             neighbourhood  \\\n",
       "0          Britta                    Pankow   Prenzlauer Berg Südwest   \n",
       "1         Philipp                    Pankow   Prenzlauer Berg Südwest   \n",
       "2  Chris + Oliver                    Pankow  Prenzlauer Berg Nordwest   \n",
       "3            Rene  Friedrichshain-Kreuzberg     nördliche Luisenstadt   \n",
       "4        Matthias                  Neukölln              Reuterstraße   \n",
       "\n",
       "   latitude  longitude        room_type  price  minimum_nights  \\\n",
       "0  52.53471   13.41810  Entire home/apt  105.0              63   \n",
       "1  52.53269   13.41805  Entire home/apt  180.0               6   \n",
       "2  52.54813   13.40366  Entire home/apt   70.0             150   \n",
       "3  52.50312   13.43508  Entire home/apt   90.0              93   \n",
       "4  52.49419   13.42166  Entire home/apt   28.0              92   \n",
       "\n",
       "   number_of_reviews last_review  reviews_per_month  \\\n",
       "0                148  2023-05-25               0.80   \n",
       "1                  7  2020-01-04               0.06   \n",
       "2                 26  2023-11-30               0.15   \n",
       "3                 48  2017-12-14               0.28   \n",
       "4                299  2022-12-01               1.68   \n",
       "\n",
       "   calculated_host_listings_count  availability_365  number_of_reviews_ltm  \\\n",
       "0                               1               333                      0   \n",
       "1                               1                22                      0   \n",
       "2                               4               270                      1   \n",
       "3                               2                17                      0   \n",
       "4                               1                16                      0   \n",
       "\n",
       "                                             license  \n",
       "0  First name and Last name: Nicolas Krotz <br/> ...  \n",
       "1                                  03/Z/RA/003410-18  \n",
       "2                                                NaN  \n",
       "3                                                NaN  \n",
       "4                                                NaN  "
      ]
     },
     "execution_count": 3,
     "metadata": {},
     "output_type": "execute_result"
    }
   ],
   "source": [
    "listings.head()"
   ]
  },
  {
   "cell_type": "code",
   "execution_count": 4,
   "id": "c9898268-a37b-4796-aa25-3f002a327707",
   "metadata": {},
   "outputs": [
    {
     "data": {
      "text/plain": [
       "id                                  int64\n",
       "name                               object\n",
       "host_id                             int64\n",
       "host_name                          object\n",
       "neighbourhood_group                object\n",
       "neighbourhood                      object\n",
       "latitude                          float64\n",
       "longitude                         float64\n",
       "room_type                          object\n",
       "price                             float64\n",
       "minimum_nights                      int64\n",
       "number_of_reviews                   int64\n",
       "last_review                        object\n",
       "reviews_per_month                 float64\n",
       "calculated_host_listings_count      int64\n",
       "availability_365                    int64\n",
       "number_of_reviews_ltm               int64\n",
       "license                            object\n",
       "dtype: object"
      ]
     },
     "execution_count": 4,
     "metadata": {},
     "output_type": "execute_result"
    }
   ],
   "source": [
    "listings.dtypes"
   ]
  },
  {
   "cell_type": "markdown",
   "id": "a025dc22-4bba-495b-976b-9f99a6d04b7c",
   "metadata": {},
   "source": [
    "#### **Attributes**"
   ]
  },
  {
   "cell_type": "markdown",
   "id": "f6a54834-9406-400e-a446-e82943700604",
   "metadata": {},
   "source": [
    "- **`id`**: A unique identifier assigned to each listing. (type `integer`)\n",
    "- **`name`**: The title or name of the listing, provided by the host. (type `string`) \n",
    "- **`host_id`**: A unique identifier assigned to each host, representing the listing owner. (type `integer`)  \n",
    "- **`host_name`**: The name of the host who owns the listing.  (type `string`)\n",
    "- **`neighbourhood_group`**: The district or precinct in Berlin where the listing is located. (type `string`)\n",
    "- **`neighbourhood`**: A more specific location within the district, pinpointing the listing’s exact area. (type `string`)\n",
    "- **`latitude`** and **`longitude`**: Geographic coordinates indicating the precise location of the listing.  (type `float`)\n",
    "- **`room_type`** : The type of room (e.g., entire home, private room). (type `string`)\n",
    "- **`price`** : The price per night of the listing. (type `float`)\n",
    "- **`minimum_nights`**: The minimum number of nights required for a stay at the listing. (type `integer`)\n",
    "- **`number_of_reviews`**: The total number of reviews the listing has received. (type `integer`)\n",
    "- **`last_review`**: The date of the most recent review for the listing. (type `string`)\n",
    "- **`reviews_per_month`**: The average number of reviews the listing receives each month. (type `float`)\n",
    "- **`calculated_host_listings_count`**: The total number of listings managed by the same host. (type `integer`)\n",
    "- **`availability_365`**: The number of days in a year that the listing is available for booking. (type `integer`)\n",
    "- **`number_of_reviews_ltm`**: The total number of reviews received in the last 12 months. (type `integer`)\n",
    "- **`license`**: Information about the license or registration status of the listing, as required by local regulations. (type `string`)"
   ]
  },
  {
   "cell_type": "markdown",
   "id": "da831624-a829-45fc-9a19-f76225fbdeb8",
   "metadata": {
    "jp-MarkdownHeadingCollapsed": true
   },
   "source": [
    "### **2.2 Data Cleaning**"
   ]
  },
  {
   "cell_type": "markdown",
   "id": "8f9c70ab-cda6-44a2-8382-e9a22dcc552d",
   "metadata": {},
   "source": [
    "The code for data cleaning is located in `airbnb_berlin_data_cleaning`. So the only dataset that is being used is `listings.csv`. Before we can proceed with the analysis, we need to first and foremost clean the dataset. So here is how the dataset is cleaned.\n"
   ]
  },
  {
   "cell_type": "markdown",
   "id": "578caecc-11bb-4bd7-abc4-ddb18a98170b",
   "metadata": {},
   "source": [
    "#### **1. Remove Unnecessary Columns**"
   ]
  },
  {
   "cell_type": "markdown",
   "id": "a2aefa6a-ed94-46cc-b4c5-eb796b6d0a7f",
   "metadata": {},
   "source": [
    "The removed columns primarily pertain to **reviews**, including `number_of_reviews`, `last_review`, `reviews_per_month`, and `number_of_reviews_ltm`. While these columns provide data on the volume and timing of reviews, they lack information about the quality of the reviews (e.g., whether they are positive or negative). As a result, we deemed them less relevant for our analysis and excluded them.\n",
    "\n",
    "```python\n",
    "listings = listings.drop([\"number_of_reviews\", \"last_review\", \"reviews_per_month\", \"number_of_reviews_ltm\"], axis=\"columns\")\n",
    "```"
   ]
  },
  {
   "cell_type": "markdown",
   "id": "59196876-4d83-49c6-9cde-4a1f741745ea",
   "metadata": {},
   "source": [
    "#### **2. Assign The Proper Data Type for Each Attributes/Columns**"
   ]
  },
  {
   "cell_type": "markdown",
   "id": "724805ae-85c7-4d6d-8e75-0bda71e87a8f",
   "metadata": {},
   "source": [
    "The data types for **`neighbourhood_group`**, **`neighbourhood`**, and **`room_type`** were converted from `string` to `category`. This change was implemented to optimize memory usage and enhance performance during data analysis, as these columns contain a limited number of unique values.\n",
    "\n",
    "```python\n",
    "listings[\"neighbourhood_group\"] = listings[\"neighbourhood_group\"].astype(\"category\")\n",
    "listings[\"neighbourhood\"] = listings[\"neighbourhood\"].astype(\"category\")\n",
    "listings[\"room_type\"] = listings[\"room_type\"].astype(\"category\")\n",
    "```"
   ]
  },
  {
   "cell_type": "markdown",
   "id": "9346de2d-4cd6-4e1f-a40e-ea2024905d0e",
   "metadata": {},
   "source": [
    "#### **3. Handle Missing Values**"
   ]
  },
  {
   "cell_type": "markdown",
   "id": "7394dd64-396a-49aa-adec-4c699affe351",
   "metadata": {},
   "source": [
    "First, we excluded any listings without `price` data, as this attribute is essential for the analysis.\n",
    "```python\n",
    "listings = listings.dropna(subset=[\"price\"])\n",
    "```\n",
    "\n",
    "Next, for the `license` attribute, we fill up the missing values with a string value `\"Unknown\"`\n",
    "```python\n",
    "listings[\"license\"] = listings[\"license\"].fillna(\"Unknown\")\n",
    "```\n",
    "\n",
    "After executing the previous code, the dataset's indices may no longer be sequential or aligned. To fix this, we need to reset the indices to ensure they are properly ordered and consistent.\n",
    "```python\n",
    "listings.reset_index(drop=True)\n",
    "```"
   ]
  },
  {
   "cell_type": "markdown",
   "id": "6ea3f3ae-62b1-4c05-b93d-3b7d25531761",
   "metadata": {},
   "source": [
    "#### **4. Remove Outliers With The Interquartile Range (IQR) Method**"
   ]
  },
  {
   "cell_type": "markdown",
   "id": "64281a28-e2e3-4f72-b77b-29e5973a71ec",
   "metadata": {},
   "source": [
    "\n",
    "Lastly, we removed outliers in the `price` column using the interquartile range (IQR) method. This step was necessary because some listings had prices that were unreasonably high or low. Such extreme values could distort the analysis by skewing the data and affecting statistical calculations. One disadvantage of this approach is that, while it removes extreme outliers, it may also exclude some valid data points that fall within a reasonable range but are still outside the IQR thresholds. These values, although not extreme, could be mistakenly removed in the process.\n",
    "\n",
    "```python\n",
    "q1 = listings[\"price\"].quantile(0.25)\n",
    "q3 = listings[\"price\"].quantile(0.75)\n",
    "iqr = q3 - q1\n",
    "\n",
    "lower_bound = q1 - 1.5*iqr\n",
    "upper_bound = q3 + 1.5*iqr\n",
    "\n",
    "condition = (listings[\"price\"] > lower_bound) & (listings[\"price\"] < upper_bound)\n",
    "listings_no_outliers = listings[condition]\n",
    "\n",
    "listings = listings_no_outliers\n",
    "```"
   ]
  },
  {
   "cell_type": "markdown",
   "id": "9d395616-596f-449f-947f-40defe7d1606",
   "metadata": {},
   "source": [
    "#### **5. Export Cleaned Dataset**"
   ]
  },
  {
   "cell_type": "markdown",
   "id": "bac1f14a-3ccd-465b-9248-f45d5ff830f2",
   "metadata": {},
   "source": [
    "Once the data has been cleaned, it is ready for export. The cleaned dataset is saved to the file path `data/cleaned/listings.csv`.\n",
    "```python\n",
    "listings.to_csv(\"data/cleaned/listings.csv\", index=False)\n",
    "```"
   ]
  },
  {
   "cell_type": "markdown",
   "id": "b8092239-2820-44ba-a9b6-16bb7c1d3efa",
   "metadata": {
    "jp-MarkdownHeadingCollapsed": true
   },
   "source": [
    "### **2.3 Cleaned Dataset Overview**"
   ]
  },
  {
   "cell_type": "code",
   "execution_count": 5,
   "id": "ab5d1147-c650-4d5c-96ab-788bd148fc1d",
   "metadata": {},
   "outputs": [],
   "source": [
    "# Load The Cleaned Dataset\n",
    "listings = pd.read_csv(\"data/cleaned/cleaned_listings.csv\")\n",
    "\n",
    "# Reassign Proper Columns / Attributes Types\n",
    "listings[\"neighbourhood_group\"] = listings[\"neighbourhood_group\"].astype(\"category\")\n",
    "listings[\"neighbourhood\"] = listings[\"neighbourhood\"].astype(\"category\")\n",
    "listings[\"room_type\"] = listings[\"room_type\"].astype(\"category\")"
   ]
  },
  {
   "cell_type": "markdown",
   "id": "c30d219d-f375-45d6-b185-2163025f8700",
   "metadata": {},
   "source": [
    "***Note*** : Previously, the variable `listings` contained the raw dataset. From this point onward, `listings` refers to the cleaned dataset."
   ]
  },
  {
   "cell_type": "code",
   "execution_count": 6,
   "id": "13d70366-2f3d-49c9-9dac-b1c34405b458",
   "metadata": {
    "scrolled": true
   },
   "outputs": [
    {
     "data": {
      "text/html": [
       "<div>\n",
       "<style scoped>\n",
       "    .dataframe tbody tr th:only-of-type {\n",
       "        vertical-align: middle;\n",
       "    }\n",
       "\n",
       "    .dataframe tbody tr th {\n",
       "        vertical-align: top;\n",
       "    }\n",
       "\n",
       "    .dataframe thead th {\n",
       "        text-align: right;\n",
       "    }\n",
       "</style>\n",
       "<table border=\"1\" class=\"dataframe\">\n",
       "  <thead>\n",
       "    <tr style=\"text-align: right;\">\n",
       "      <th></th>\n",
       "      <th>id</th>\n",
       "      <th>name</th>\n",
       "      <th>host_id</th>\n",
       "      <th>host_name</th>\n",
       "      <th>neighbourhood_group</th>\n",
       "      <th>neighbourhood</th>\n",
       "      <th>latitude</th>\n",
       "      <th>longitude</th>\n",
       "      <th>room_type</th>\n",
       "      <th>price</th>\n",
       "      <th>minimum_nights</th>\n",
       "      <th>calculated_host_listings_count</th>\n",
       "      <th>availability_365</th>\n",
       "      <th>license</th>\n",
       "    </tr>\n",
       "  </thead>\n",
       "  <tbody>\n",
       "    <tr>\n",
       "      <th>0</th>\n",
       "      <td>3176</td>\n",
       "      <td>Fabulous Flat in great Location</td>\n",
       "      <td>3718</td>\n",
       "      <td>Britta</td>\n",
       "      <td>Pankow</td>\n",
       "      <td>Prenzlauer Berg Südwest</td>\n",
       "      <td>52.53471</td>\n",
       "      <td>13.41810</td>\n",
       "      <td>Entire home/apt</td>\n",
       "      <td>105.0</td>\n",
       "      <td>63</td>\n",
       "      <td>1</td>\n",
       "      <td>333</td>\n",
       "      <td>First name and Last name: Nicolas Krotz &lt;br/&gt; ...</td>\n",
       "    </tr>\n",
       "    <tr>\n",
       "      <th>1</th>\n",
       "      <td>9991</td>\n",
       "      <td>Geourgeous flat - outstanding views</td>\n",
       "      <td>33852</td>\n",
       "      <td>Philipp</td>\n",
       "      <td>Pankow</td>\n",
       "      <td>Prenzlauer Berg Südwest</td>\n",
       "      <td>52.53269</td>\n",
       "      <td>13.41805</td>\n",
       "      <td>Entire home/apt</td>\n",
       "      <td>180.0</td>\n",
       "      <td>6</td>\n",
       "      <td>1</td>\n",
       "      <td>22</td>\n",
       "      <td>03/Z/RA/003410-18</td>\n",
       "    </tr>\n",
       "    <tr>\n",
       "      <th>2</th>\n",
       "      <td>14325</td>\n",
       "      <td>Studio Apartment in Prenzlauer Berg</td>\n",
       "      <td>55531</td>\n",
       "      <td>Chris + Oliver</td>\n",
       "      <td>Pankow</td>\n",
       "      <td>Prenzlauer Berg Nordwest</td>\n",
       "      <td>52.54813</td>\n",
       "      <td>13.40366</td>\n",
       "      <td>Entire home/apt</td>\n",
       "      <td>70.0</td>\n",
       "      <td>150</td>\n",
       "      <td>4</td>\n",
       "      <td>270</td>\n",
       "      <td>Unknown</td>\n",
       "    </tr>\n",
       "    <tr>\n",
       "      <th>3</th>\n",
       "      <td>16644</td>\n",
       "      <td>In the Heart of Berlin - Kreuzberg</td>\n",
       "      <td>64696</td>\n",
       "      <td>Rene</td>\n",
       "      <td>Friedrichshain-Kreuzberg</td>\n",
       "      <td>nördliche Luisenstadt</td>\n",
       "      <td>52.50312</td>\n",
       "      <td>13.43508</td>\n",
       "      <td>Entire home/apt</td>\n",
       "      <td>90.0</td>\n",
       "      <td>93</td>\n",
       "      <td>2</td>\n",
       "      <td>17</td>\n",
       "      <td>Unknown</td>\n",
       "    </tr>\n",
       "    <tr>\n",
       "      <th>4</th>\n",
       "      <td>17904</td>\n",
       "      <td>Beautiful Kreuzberg studio - 3 months minimum</td>\n",
       "      <td>68997</td>\n",
       "      <td>Matthias</td>\n",
       "      <td>Neukölln</td>\n",
       "      <td>Reuterstraße</td>\n",
       "      <td>52.49419</td>\n",
       "      <td>13.42166</td>\n",
       "      <td>Entire home/apt</td>\n",
       "      <td>28.0</td>\n",
       "      <td>92</td>\n",
       "      <td>1</td>\n",
       "      <td>16</td>\n",
       "      <td>Unknown</td>\n",
       "    </tr>\n",
       "  </tbody>\n",
       "</table>\n",
       "</div>"
      ],
      "text/plain": [
       "      id                                           name  host_id  \\\n",
       "0   3176                Fabulous Flat in great Location     3718   \n",
       "1   9991            Geourgeous flat - outstanding views    33852   \n",
       "2  14325            Studio Apartment in Prenzlauer Berg    55531   \n",
       "3  16644             In the Heart of Berlin - Kreuzberg    64696   \n",
       "4  17904  Beautiful Kreuzberg studio - 3 months minimum    68997   \n",
       "\n",
       "        host_name       neighbourhood_group             neighbourhood  \\\n",
       "0          Britta                    Pankow   Prenzlauer Berg Südwest   \n",
       "1         Philipp                    Pankow   Prenzlauer Berg Südwest   \n",
       "2  Chris + Oliver                    Pankow  Prenzlauer Berg Nordwest   \n",
       "3            Rene  Friedrichshain-Kreuzberg     nördliche Luisenstadt   \n",
       "4        Matthias                  Neukölln              Reuterstraße   \n",
       "\n",
       "   latitude  longitude        room_type  price  minimum_nights  \\\n",
       "0  52.53471   13.41810  Entire home/apt  105.0              63   \n",
       "1  52.53269   13.41805  Entire home/apt  180.0               6   \n",
       "2  52.54813   13.40366  Entire home/apt   70.0             150   \n",
       "3  52.50312   13.43508  Entire home/apt   90.0              93   \n",
       "4  52.49419   13.42166  Entire home/apt   28.0              92   \n",
       "\n",
       "   calculated_host_listings_count  availability_365  \\\n",
       "0                               1               333   \n",
       "1                               1                22   \n",
       "2                               4               270   \n",
       "3                               2                17   \n",
       "4                               1                16   \n",
       "\n",
       "                                             license  \n",
       "0  First name and Last name: Nicolas Krotz <br/> ...  \n",
       "1                                  03/Z/RA/003410-18  \n",
       "2                                            Unknown  \n",
       "3                                            Unknown  \n",
       "4                                            Unknown  "
      ]
     },
     "execution_count": 6,
     "metadata": {},
     "output_type": "execute_result"
    }
   ],
   "source": [
    "listings.head()"
   ]
  },
  {
   "cell_type": "markdown",
   "id": "d942c5af-9dc0-4434-ad37-772b31e106e3",
   "metadata": {},
   "source": [
    "#### **Attributes**"
   ]
  },
  {
   "cell_type": "markdown",
   "id": "2074859f-f05c-4ff9-8e48-1803ff6c3c58",
   "metadata": {},
   "source": [
    "- **`id`**: A unique identifier assigned to each listing. (type `integer`)\n",
    "- **`name`**: The title or name of the listing, provided by the host. (type `string`) \n",
    "- **`host_id`**: A unique identifier assigned to each host, representing the listing owner. (type `integer`)  \n",
    "- **`host_name`**: The name of the host who owns the listing.  (type `string`)\n",
    "- **`neighbourhood_group`**: The district or precinct in Berlin where the listing is located. (type `category`)\n",
    "- **`neighbourhood`**: A more specific location within the district, pinpointing the listing’s exact area. (type `category`)\n",
    "- **`latitude`** and **`longitude`**: Geographic coordinates indicating the precise location of the listing.  (type `float`)\n",
    "- **`room_type`** : The type of room (e.g., entire home, private room). (type `category`)\n",
    "- **`price`** : The price per night of the listing. (type `float`)\n",
    "- **`reviews_per_month`**: The average number of reviews the listing receives each month. (type `float`)\n",
    "- **`calculated_host_listings_count`**: The total number of listings managed by the same host. (type `integer`)\n",
    "- **`availability_365`**: The number of days in a year that the listing is available for booking. (type `integer`)\n",
    "- **`license`**: Information about the license or registration status of the listing, as required by local regulations. (type `string`)\n",
    "\n"
   ]
  },
  {
   "cell_type": "markdown",
   "id": "a8c4995a-dd47-46a0-a31c-fb6d4225884d",
   "metadata": {},
   "source": [
    "## **3. Exploratory Data Analysis (EDA) Insights**"
   ]
  },
  {
   "cell_type": "markdown",
   "id": "3a173c4e-61e5-4004-8e0b-09324eb62cf4",
   "metadata": {
    "jp-MarkdownHeadingCollapsed": true
   },
   "source": [
    "### **3.1 How Does Location Of The Airbnb Listing Affects The Price Of Accomodation Per Night ?.**"
   ]
  },
  {
   "cell_type": "markdown",
   "id": "ad13250a-a0ee-4b52-80cc-8b6316b8e9ca",
   "metadata": {},
   "source": [
    "<img src=\"plots/price_distribution.png\" alt=\"Airbnb Price Distribution\" width=\"400\" height=\"300\">"
   ]
  },
  {
   "cell_type": "code",
   "execution_count": 7,
   "id": "c046c6d2-3597-4772-b347-63035bd7d1b7",
   "metadata": {},
   "outputs": [
    {
     "data": {
      "text/plain": [
       "124.07909604519774"
      ]
     },
     "execution_count": 7,
     "metadata": {},
     "output_type": "execute_result"
    }
   ],
   "source": [
    "listings[\"price\"].mean()"
   ]
  },
  {
   "cell_type": "markdown",
   "id": "73da2fcc-4897-408e-9d31-fd0c84d1a250",
   "metadata": {},
   "source": [
    "The majority of the listings are priced between €42 and €75, with an average listing price of €124.08. Before conducting the analysis, outliers were removed using the interquartile range method. This process excluded all listings priced above €342. Initially, the goal was to filter out a few extreme outliers with prices ranging from €9,999 to €11,000."
   ]
  },
  {
   "cell_type": "markdown",
   "id": "d83e4602-710b-4983-b3a6-8936b8421e88",
   "metadata": {},
   "source": [
    "<img src=\"plots/price_location_scatter.png\" alt=\"Price per Night Based on Locations\" width=\"400\" height=\"300\">"
   ]
  },
  {
   "cell_type": "markdown",
   "id": "28e9c12e-cb31-4470-9a0c-257efe2873d5",
   "metadata": {},
   "source": [
    "The geospatial data visualizations show a high concentration of listings near the center of Berlin, with the density gradually decreasing as you move toward the outskirts of the city. This could indicate that the central areas are more popular, with higher demand for accomodations, while the outer areas may offer fewer listings due to fewer demands or be less attractive to tourists or guests.\n",
    "\n",
    "This could be due to the reason that the center of the city is a tourist heavy area, which oftens reflects demand driven by visitors who seek proximity to the landmarks. In contrast, The outer part of the city contains residential areas, which may be less appealing to short-term visitors, thus reducing the density of the listings."
   ]
  },
  {
   "cell_type": "markdown",
   "id": "547179f9-b3a2-417e-a9cb-1d6e539d6def",
   "metadata": {},
   "source": [
    "<img src=\"plots/berlin_neighborhoods_with_listings_counts_plot.png\" alt=\"Berlin Neighbourhoods with Listing Counts\" width=\"700\" height=\"600\">\n",
    "\n",
    "<img src=\"plots/neighbourhood_group_distribution.png\" alt=\"Berlin Neighbourhoods with Listing Counts\" width=\"400\" height=\"300\">"
   ]
  },
  {
   "cell_type": "markdown",
   "id": "b6819c7a-6907-42e4-bb8f-ad84adc8ad07",
   "metadata": {},
   "source": [
    "The plot titled **`Scatter Plot of Berlin Neighborhoods with Listing Counts`** displays the approximate center of each neighborhood group in Berlin. The number above each dot represents the total number of listings in that neighborhood group. As shown, the neighborhood group **`Mitte`** has the highest number of listings, with **`1,835`** available. As we move further from the city center, the number of listings decreases, with **`Marzahn-Hellersdorf`** having the fewest at **`99`** listings."
   ]
  },
  {
   "cell_type": "markdown",
   "id": "54f80bb2-2e29-4086-ab94-036db7ba944a",
   "metadata": {},
   "source": [
    "<img src=\"plots/berlin_neighborhoods_avg_price_plot.png\" alt=\"Berlin Neighbourhoods with Average Price\" width=\"700\" height=\"600\">\n",
    "\n",
    "<img src=\"plots/average_price_neighbourhoods.png\" alt=\"Average Prices Of Berlin Neighbourhoods\" width=\"400\" height=\"300\">"
   ]
  },
  {
   "cell_type": "markdown",
   "id": "0f1815ad-1eea-47be-8487-2697798ab4ca",
   "metadata": {},
   "source": [
    "Above, the locations of each neighborhood are marked with their corresponding average price. As shown, **`Mitte`** has the highest average price at **`€140.12`**. This is because Mitte is the central district of Berlin and it's often the most expensive due to its proximity to major tourist's attractions, business districts, cultural landmarks, and vibrant nightlife. THese factors increase the demand for accomodation, driving the price higher.\n",
    "\n",
    "As you move away from Mitte towards the outskirts of Berlin, the average price tends to decrease. This trend is typical in most large cities, where central areas (especially business and tourist districts) command higher accommodation rates. The further a neighborhood is from the city center, the less demand there is for short-term rentals, leading to more affordable pricing."
   ]
  },
  {
   "cell_type": "markdown",
   "id": "c416c805-f50d-4dc6-b47d-f6aab5d79c5b",
   "metadata": {},
   "source": [
    "### **3.2 How Does The Room Type Of The Airbnb Listing Affects The Price Of Accomodation Per Night ?.**"
   ]
  },
  {
   "cell_type": "markdown",
   "id": "531b314a-f770-457d-82ec-92a771d2de56",
   "metadata": {},
   "source": [
    "<img src=\"plots/average_price_room_type.png\" alt=\"Airbnb Price Distribution\" width=\"400\" height=\"300\">"
   ]
  },
  {
   "cell_type": "markdown",
   "id": "9db52cf4-4441-4513-b399-695adc250ddc",
   "metadata": {},
   "source": [
    "Here we can see that the average price for the room type **`Hotel room`** is the highest among all of the other types with **`219.05`** average price. Hotel rooms generally have a higher price due to the added services they offer. Guests who book hotel rooms are often willing to pay more for these amenities. Additionally, hotels are typically located in prime areas or near business and tourist districts, which can drive up the price. \n",
    "\n",
    "The average price differences between **`Entire home/apt`**, **`Private room`**, and **`Shared room`** are likely due to the varying levels of privacy and control over space each option provides. **`Entire home/apt`** offers the highest level of both privacy and control, followed by **`Private room`**, while **`Shared room`** provides the least privacy and control, resulting in the lowest prices."
   ]
  },
  {
   "cell_type": "markdown",
   "id": "ae9623c9-4c47-45b8-b81c-fbb0a86bcbbd",
   "metadata": {},
   "source": [
    "<img src=\"plots/room_type_distribution.png\" alt=\"Airbnb Price Distribution\" width=\"400\" height=\"300\">"
   ]
  },
  {
   "cell_type": "markdown",
   "id": "8a1e938b-7b48-42e5-84c0-2b81b147397a",
   "metadata": {},
   "source": [
    "\n",
    "Another factor that could explain why **`Hotel Room`** has a higher price than other room types, particularly **`Entire home/apt`**, is its significantly lower supply, as shown above. This limited availability could be contributing to the higher price of **`Hotel Room`**."
   ]
  },
  {
   "cell_type": "markdown",
   "id": "772424fe-132d-4033-93c0-86d1e1289f16",
   "metadata": {},
   "source": [
    "## **4. Key Findings and Insights**"
   ]
  },
  {
   "cell_type": "markdown",
   "id": "b0545655-1438-44a8-8140-5e6ba9e14a62",
   "metadata": {},
   "source": [
    "### **4.1 Location vs. Price**"
   ]
  },
  {
   "cell_type": "markdown",
   "id": "9b0b45ba-8a21-4176-bc71-01eb2e4c0c16",
   "metadata": {},
   "source": [
    "Listings closer to the city center tend to have higher prices per night."
   ]
  },
  {
   "cell_type": "markdown",
   "id": "6f7cea86-9ede-40e7-8095-f72663cf6fcd",
   "metadata": {},
   "source": [
    "### **4.2 Room Type vs. Price**"
   ]
  },
  {
   "cell_type": "markdown",
   "id": "0ebc13d0-0c10-420e-aad4-7ca84aa89f3c",
   "metadata": {},
   "source": [
    "**`Hotel room`**  have the highest average price, followed by **`Entire home/apt`**, **`Private room`**, and then  **`Shared room`**"
   ]
  },
  {
   "cell_type": "markdown",
   "id": "1b64dfc0-99a1-4f3a-b55e-01a184d36a6c",
   "metadata": {},
   "source": [
    "## **5. Limitations of the Analysis**"
   ]
  },
  {
   "cell_type": "markdown",
   "id": "922faea5-5a5d-4735-8e5f-c91b3323b2e5",
   "metadata": {},
   "source": [
    "Some listings have **missing price data**, which must be excluded from the analysis, as price is a key variable in this study. \n",
    "\n",
    "The attributes or columns related to reviews have also been removed from the analysis, as they do not provide context on whether the reviews are positive or negative.\n",
    "\n",
    "The method used to remove outliers, the interquartile range, was intended to eliminate a few listings with exceptionally high prices (e.g., €9,999 and €11,000 per night), which may distort the dataset. However, this method also removed some listings with more reasonable prices above €342 per night."
   ]
  },
  {
   "cell_type": "markdown",
   "id": "950c759f-b6f4-41e4-9c47-840b7c71ece6",
   "metadata": {},
   "source": [
    "## **6. Reccomendations and Next Steps**"
   ]
  },
  {
   "cell_type": "markdown",
   "id": "be7ae587-9474-4b08-8df3-8dd1ecdce760",
   "metadata": {},
   "source": [
    "The analysis could be extended by incorporating data that provides context on whether reviews are positive or negative. This could be in the form of numerical values (e.g., higher numbers indicating positive reviews) or categorical/string values (e.g., \"positive\" and \"negative\"). This would allow for an analysis of the relationship between review sentiment and price.\n",
    "\n",
    "Another potential analysis involves exploring the impact of seasonality on listing prices, which would require additional data. Understanding how different seasons affect prices could be valuable, particularly for tourists.\n",
    "\n",
    "Further analysis could also focus on the relationship between location (latitude and longitude) and room type, as this may help explain price differences across room types. For instance, the higher price of **`Hotel Room`** may be due to its proximity to the city center."
   ]
  }
 ],
 "metadata": {
  "kernelspec": {
   "display_name": "Python 3 (ipykernel)",
   "language": "python",
   "name": "python3"
  },
  "language_info": {
   "codemirror_mode": {
    "name": "ipython",
    "version": 3
   },
   "file_extension": ".py",
   "mimetype": "text/x-python",
   "name": "python",
   "nbconvert_exporter": "python",
   "pygments_lexer": "ipython3",
   "version": "3.12.7"
  }
 },
 "nbformat": 4,
 "nbformat_minor": 5
}

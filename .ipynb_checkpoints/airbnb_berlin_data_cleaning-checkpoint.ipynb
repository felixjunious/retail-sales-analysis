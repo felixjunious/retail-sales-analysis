{
 "cells": [
  {
   "cell_type": "markdown",
   "id": "ded04565-480b-4245-b6bf-94acf1ebdcc9",
   "metadata": {},
   "source": [
    "# 1. Import"
   ]
  },
  {
   "cell_type": "code",
   "execution_count": 1,
   "id": "aee3c4cc-30a5-485d-a2fd-f898d2ac1588",
   "metadata": {},
   "outputs": [],
   "source": [
    "import pandas as pd"
   ]
  },
  {
   "cell_type": "markdown",
   "id": "8b708e47-f164-489b-a043-6dd5a480f277",
   "metadata": {},
   "source": [
    "# 2. Load Dataset"
   ]
  },
  {
   "cell_type": "code",
   "execution_count": 2,
   "id": "161449d4-8457-4f5c-b456-35468be91e1c",
   "metadata": {
    "scrolled": true
   },
   "outputs": [],
   "source": [
    "listings = pd.read_csv(\"data/raw/listings.csv\")\n",
    "neighbourhoods = pd.read_csv(\"data/raw/neighbourhoods.csv\")\n",
    "reviews = pd.read_csv(\"data/raw/reviews.csv\")"
   ]
  },
  {
   "cell_type": "code",
   "execution_count": 3,
   "id": "1876cac7-65cc-4b91-ad25-b208be70f74e",
   "metadata": {
    "scrolled": true
   },
   "outputs": [
    {
     "data": {
      "text/html": [
       "<div>\n",
       "<style scoped>\n",
       "    .dataframe tbody tr th:only-of-type {\n",
       "        vertical-align: middle;\n",
       "    }\n",
       "\n",
       "    .dataframe tbody tr th {\n",
       "        vertical-align: top;\n",
       "    }\n",
       "\n",
       "    .dataframe thead th {\n",
       "        text-align: right;\n",
       "    }\n",
       "</style>\n",
       "<table border=\"1\" class=\"dataframe\">\n",
       "  <thead>\n",
       "    <tr style=\"text-align: right;\">\n",
       "      <th></th>\n",
       "      <th>id</th>\n",
       "      <th>name</th>\n",
       "      <th>host_id</th>\n",
       "      <th>host_name</th>\n",
       "      <th>neighbourhood_group</th>\n",
       "      <th>neighbourhood</th>\n",
       "      <th>latitude</th>\n",
       "      <th>longitude</th>\n",
       "      <th>room_type</th>\n",
       "      <th>price</th>\n",
       "      <th>minimum_nights</th>\n",
       "      <th>number_of_reviews</th>\n",
       "      <th>last_review</th>\n",
       "      <th>reviews_per_month</th>\n",
       "      <th>calculated_host_listings_count</th>\n",
       "      <th>availability_365</th>\n",
       "      <th>number_of_reviews_ltm</th>\n",
       "      <th>license</th>\n",
       "    </tr>\n",
       "  </thead>\n",
       "  <tbody>\n",
       "    <tr>\n",
       "      <th>0</th>\n",
       "      <td>3176</td>\n",
       "      <td>Fabulous Flat in great Location</td>\n",
       "      <td>3718</td>\n",
       "      <td>Britta</td>\n",
       "      <td>Pankow</td>\n",
       "      <td>Prenzlauer Berg Südwest</td>\n",
       "      <td>52.53471</td>\n",
       "      <td>13.41810</td>\n",
       "      <td>Entire home/apt</td>\n",
       "      <td>105.0</td>\n",
       "      <td>63</td>\n",
       "      <td>148</td>\n",
       "      <td>2023-05-25</td>\n",
       "      <td>0.80</td>\n",
       "      <td>1</td>\n",
       "      <td>333</td>\n",
       "      <td>0</td>\n",
       "      <td>First name and Last name: Nicolas Krotz &lt;br/&gt; ...</td>\n",
       "    </tr>\n",
       "    <tr>\n",
       "      <th>1</th>\n",
       "      <td>9991</td>\n",
       "      <td>Geourgeous flat - outstanding views</td>\n",
       "      <td>33852</td>\n",
       "      <td>Philipp</td>\n",
       "      <td>Pankow</td>\n",
       "      <td>Prenzlauer Berg Südwest</td>\n",
       "      <td>52.53269</td>\n",
       "      <td>13.41805</td>\n",
       "      <td>Entire home/apt</td>\n",
       "      <td>180.0</td>\n",
       "      <td>6</td>\n",
       "      <td>7</td>\n",
       "      <td>2020-01-04</td>\n",
       "      <td>0.06</td>\n",
       "      <td>1</td>\n",
       "      <td>22</td>\n",
       "      <td>0</td>\n",
       "      <td>03/Z/RA/003410-18</td>\n",
       "    </tr>\n",
       "    <tr>\n",
       "      <th>2</th>\n",
       "      <td>14325</td>\n",
       "      <td>Studio Apartment in Prenzlauer Berg</td>\n",
       "      <td>55531</td>\n",
       "      <td>Chris + Oliver</td>\n",
       "      <td>Pankow</td>\n",
       "      <td>Prenzlauer Berg Nordwest</td>\n",
       "      <td>52.54813</td>\n",
       "      <td>13.40366</td>\n",
       "      <td>Entire home/apt</td>\n",
       "      <td>70.0</td>\n",
       "      <td>150</td>\n",
       "      <td>26</td>\n",
       "      <td>2023-11-30</td>\n",
       "      <td>0.15</td>\n",
       "      <td>4</td>\n",
       "      <td>270</td>\n",
       "      <td>1</td>\n",
       "      <td>NaN</td>\n",
       "    </tr>\n",
       "    <tr>\n",
       "      <th>3</th>\n",
       "      <td>16644</td>\n",
       "      <td>In the Heart of Berlin - Kreuzberg</td>\n",
       "      <td>64696</td>\n",
       "      <td>Rene</td>\n",
       "      <td>Friedrichshain-Kreuzberg</td>\n",
       "      <td>nördliche Luisenstadt</td>\n",
       "      <td>52.50312</td>\n",
       "      <td>13.43508</td>\n",
       "      <td>Entire home/apt</td>\n",
       "      <td>90.0</td>\n",
       "      <td>93</td>\n",
       "      <td>48</td>\n",
       "      <td>2017-12-14</td>\n",
       "      <td>0.28</td>\n",
       "      <td>2</td>\n",
       "      <td>17</td>\n",
       "      <td>0</td>\n",
       "      <td>NaN</td>\n",
       "    </tr>\n",
       "    <tr>\n",
       "      <th>4</th>\n",
       "      <td>17904</td>\n",
       "      <td>Beautiful Kreuzberg studio - 3 months minimum</td>\n",
       "      <td>68997</td>\n",
       "      <td>Matthias</td>\n",
       "      <td>Neukölln</td>\n",
       "      <td>Reuterstraße</td>\n",
       "      <td>52.49419</td>\n",
       "      <td>13.42166</td>\n",
       "      <td>Entire home/apt</td>\n",
       "      <td>28.0</td>\n",
       "      <td>92</td>\n",
       "      <td>299</td>\n",
       "      <td>2022-12-01</td>\n",
       "      <td>1.68</td>\n",
       "      <td>1</td>\n",
       "      <td>16</td>\n",
       "      <td>0</td>\n",
       "      <td>NaN</td>\n",
       "    </tr>\n",
       "  </tbody>\n",
       "</table>\n",
       "</div>"
      ],
      "text/plain": [
       "      id                                           name  host_id  \\\n",
       "0   3176                Fabulous Flat in great Location     3718   \n",
       "1   9991            Geourgeous flat - outstanding views    33852   \n",
       "2  14325            Studio Apartment in Prenzlauer Berg    55531   \n",
       "3  16644             In the Heart of Berlin - Kreuzberg    64696   \n",
       "4  17904  Beautiful Kreuzberg studio - 3 months minimum    68997   \n",
       "\n",
       "        host_name       neighbourhood_group             neighbourhood  \\\n",
       "0          Britta                    Pankow   Prenzlauer Berg Südwest   \n",
       "1         Philipp                    Pankow   Prenzlauer Berg Südwest   \n",
       "2  Chris + Oliver                    Pankow  Prenzlauer Berg Nordwest   \n",
       "3            Rene  Friedrichshain-Kreuzberg     nördliche Luisenstadt   \n",
       "4        Matthias                  Neukölln              Reuterstraße   \n",
       "\n",
       "   latitude  longitude        room_type  price  minimum_nights  \\\n",
       "0  52.53471   13.41810  Entire home/apt  105.0              63   \n",
       "1  52.53269   13.41805  Entire home/apt  180.0               6   \n",
       "2  52.54813   13.40366  Entire home/apt   70.0             150   \n",
       "3  52.50312   13.43508  Entire home/apt   90.0              93   \n",
       "4  52.49419   13.42166  Entire home/apt   28.0              92   \n",
       "\n",
       "   number_of_reviews last_review  reviews_per_month  \\\n",
       "0                148  2023-05-25               0.80   \n",
       "1                  7  2020-01-04               0.06   \n",
       "2                 26  2023-11-30               0.15   \n",
       "3                 48  2017-12-14               0.28   \n",
       "4                299  2022-12-01               1.68   \n",
       "\n",
       "   calculated_host_listings_count  availability_365  number_of_reviews_ltm  \\\n",
       "0                               1               333                      0   \n",
       "1                               1                22                      0   \n",
       "2                               4               270                      1   \n",
       "3                               2                17                      0   \n",
       "4                               1                16                      0   \n",
       "\n",
       "                                             license  \n",
       "0  First name and Last name: Nicolas Krotz <br/> ...  \n",
       "1                                  03/Z/RA/003410-18  \n",
       "2                                                NaN  \n",
       "3                                                NaN  \n",
       "4                                                NaN  "
      ]
     },
     "execution_count": 3,
     "metadata": {},
     "output_type": "execute_result"
    }
   ],
   "source": [
    "listings.head()"
   ]
  },
  {
   "cell_type": "code",
   "execution_count": 4,
   "id": "d3e4c28a-b190-42e7-8ba2-cbd6d026cd0b",
   "metadata": {},
   "outputs": [
    {
     "data": {
      "text/html": [
       "<div>\n",
       "<style scoped>\n",
       "    .dataframe tbody tr th:only-of-type {\n",
       "        vertical-align: middle;\n",
       "    }\n",
       "\n",
       "    .dataframe tbody tr th {\n",
       "        vertical-align: top;\n",
       "    }\n",
       "\n",
       "    .dataframe thead th {\n",
       "        text-align: right;\n",
       "    }\n",
       "</style>\n",
       "<table border=\"1\" class=\"dataframe\">\n",
       "  <thead>\n",
       "    <tr style=\"text-align: right;\">\n",
       "      <th></th>\n",
       "      <th>neighbourhood_group</th>\n",
       "      <th>neighbourhood</th>\n",
       "    </tr>\n",
       "  </thead>\n",
       "  <tbody>\n",
       "    <tr>\n",
       "      <th>0</th>\n",
       "      <td>Charlottenburg-Wilm.</td>\n",
       "      <td>Barstraße</td>\n",
       "    </tr>\n",
       "    <tr>\n",
       "      <th>1</th>\n",
       "      <td>Charlottenburg-Wilm.</td>\n",
       "      <td>Charlottenburg Nord</td>\n",
       "    </tr>\n",
       "    <tr>\n",
       "      <th>2</th>\n",
       "      <td>Charlottenburg-Wilm.</td>\n",
       "      <td>Düsseldorfer Straße</td>\n",
       "    </tr>\n",
       "    <tr>\n",
       "      <th>3</th>\n",
       "      <td>Charlottenburg-Wilm.</td>\n",
       "      <td>Forst Grunewald</td>\n",
       "    </tr>\n",
       "    <tr>\n",
       "      <th>4</th>\n",
       "      <td>Charlottenburg-Wilm.</td>\n",
       "      <td>Grunewald</td>\n",
       "    </tr>\n",
       "  </tbody>\n",
       "</table>\n",
       "</div>"
      ],
      "text/plain": [
       "    neighbourhood_group        neighbourhood\n",
       "0  Charlottenburg-Wilm.            Barstraße\n",
       "1  Charlottenburg-Wilm.  Charlottenburg Nord\n",
       "2  Charlottenburg-Wilm.  Düsseldorfer Straße\n",
       "3  Charlottenburg-Wilm.      Forst Grunewald\n",
       "4  Charlottenburg-Wilm.            Grunewald"
      ]
     },
     "execution_count": 4,
     "metadata": {},
     "output_type": "execute_result"
    }
   ],
   "source": [
    "neighbourhoods.head()"
   ]
  },
  {
   "cell_type": "code",
   "execution_count": 5,
   "id": "92b70f16-bfc3-4429-9b0b-7c6e7b8fe697",
   "metadata": {
    "scrolled": true
   },
   "outputs": [
    {
     "data": {
      "text/html": [
       "<div>\n",
       "<style scoped>\n",
       "    .dataframe tbody tr th:only-of-type {\n",
       "        vertical-align: middle;\n",
       "    }\n",
       "\n",
       "    .dataframe tbody tr th {\n",
       "        vertical-align: top;\n",
       "    }\n",
       "\n",
       "    .dataframe thead th {\n",
       "        text-align: right;\n",
       "    }\n",
       "</style>\n",
       "<table border=\"1\" class=\"dataframe\">\n",
       "  <thead>\n",
       "    <tr style=\"text-align: right;\">\n",
       "      <th></th>\n",
       "      <th>listing_id</th>\n",
       "      <th>date</th>\n",
       "    </tr>\n",
       "  </thead>\n",
       "  <tbody>\n",
       "    <tr>\n",
       "      <th>0</th>\n",
       "      <td>3176</td>\n",
       "      <td>2009-06-20</td>\n",
       "    </tr>\n",
       "    <tr>\n",
       "      <th>1</th>\n",
       "      <td>3176</td>\n",
       "      <td>2010-11-07</td>\n",
       "    </tr>\n",
       "    <tr>\n",
       "      <th>2</th>\n",
       "      <td>3176</td>\n",
       "      <td>2010-11-24</td>\n",
       "    </tr>\n",
       "    <tr>\n",
       "      <th>3</th>\n",
       "      <td>3176</td>\n",
       "      <td>2010-12-21</td>\n",
       "    </tr>\n",
       "    <tr>\n",
       "      <th>4</th>\n",
       "      <td>3176</td>\n",
       "      <td>2011-01-04</td>\n",
       "    </tr>\n",
       "  </tbody>\n",
       "</table>\n",
       "</div>"
      ],
      "text/plain": [
       "   listing_id        date\n",
       "0        3176  2009-06-20\n",
       "1        3176  2010-11-07\n",
       "2        3176  2010-11-24\n",
       "3        3176  2010-12-21\n",
       "4        3176  2011-01-04"
      ]
     },
     "execution_count": 5,
     "metadata": {},
     "output_type": "execute_result"
    }
   ],
   "source": [
    "reviews.head()"
   ]
  },
  {
   "cell_type": "markdown",
   "id": "3f68d39b-a7bf-4923-9a3f-f8ea71d73eae",
   "metadata": {},
   "source": [
    "# 3. Inspect Dataset"
   ]
  },
  {
   "cell_type": "code",
   "execution_count": 6,
   "id": "42d9d61b-469f-4e76-a551-3da0be0c06a9",
   "metadata": {},
   "outputs": [
    {
     "name": "stdout",
     "output_type": "stream",
     "text": [
      "<class 'pandas.core.frame.DataFrame'>\n",
      "RangeIndex: 14017 entries, 0 to 14016\n",
      "Data columns (total 18 columns):\n",
      " #   Column                          Non-Null Count  Dtype  \n",
      "---  ------                          --------------  -----  \n",
      " 0   id                              14017 non-null  int64  \n",
      " 1   name                            14017 non-null  object \n",
      " 2   host_id                         14017 non-null  int64  \n",
      " 3   host_name                       14008 non-null  object \n",
      " 4   neighbourhood_group             14017 non-null  object \n",
      " 5   neighbourhood                   14017 non-null  object \n",
      " 6   latitude                        14017 non-null  float64\n",
      " 7   longitude                       14017 non-null  float64\n",
      " 8   room_type                       14017 non-null  object \n",
      " 9   price                           9008 non-null   float64\n",
      " 10  minimum_nights                  14017 non-null  int64  \n",
      " 11  number_of_reviews               14017 non-null  int64  \n",
      " 12  last_review                     10884 non-null  object \n",
      " 13  reviews_per_month               10884 non-null  float64\n",
      " 14  calculated_host_listings_count  14017 non-null  int64  \n",
      " 15  availability_365                14017 non-null  int64  \n",
      " 16  number_of_reviews_ltm           14017 non-null  int64  \n",
      " 17  license                         8812 non-null   object \n",
      "dtypes: float64(4), int64(7), object(7)\n",
      "memory usage: 1.9+ MB\n"
     ]
    }
   ],
   "source": [
    "listings.info()"
   ]
  },
  {
   "cell_type": "code",
   "execution_count": 7,
   "id": "9d285b02-9ae5-41c0-97a6-2e9422430ac3",
   "metadata": {},
   "outputs": [
    {
     "data": {
      "text/plain": [
       "id                                   0\n",
       "name                                 0\n",
       "host_id                              0\n",
       "host_name                            9\n",
       "neighbourhood_group                  0\n",
       "neighbourhood                        0\n",
       "latitude                             0\n",
       "longitude                            0\n",
       "room_type                            0\n",
       "price                             5009\n",
       "minimum_nights                       0\n",
       "number_of_reviews                    0\n",
       "last_review                       3133\n",
       "reviews_per_month                 3133\n",
       "calculated_host_listings_count       0\n",
       "availability_365                     0\n",
       "number_of_reviews_ltm                0\n",
       "license                           5205\n",
       "dtype: int64"
      ]
     },
     "execution_count": 7,
     "metadata": {},
     "output_type": "execute_result"
    }
   ],
   "source": [
    "listings.isnull().sum()"
   ]
  },
  {
   "cell_type": "code",
   "execution_count": 8,
   "id": "35019622-9d02-43e2-9502-a55291307e51",
   "metadata": {},
   "outputs": [
    {
     "name": "stdout",
     "output_type": "stream",
     "text": [
      "<class 'pandas.core.frame.DataFrame'>\n",
      "RangeIndex: 139 entries, 0 to 138\n",
      "Data columns (total 2 columns):\n",
      " #   Column               Non-Null Count  Dtype \n",
      "---  ------               --------------  ----- \n",
      " 0   neighbourhood_group  138 non-null    object\n",
      " 1   neighbourhood        138 non-null    object\n",
      "dtypes: object(2)\n",
      "memory usage: 2.3+ KB\n"
     ]
    }
   ],
   "source": [
    "neighbourhoods.info()"
   ]
  },
  {
   "cell_type": "code",
   "execution_count": 9,
   "id": "da610188-425f-4c10-9f9f-8febf0a75bdd",
   "metadata": {},
   "outputs": [
    {
     "data": {
      "text/plain": [
       "neighbourhood_group    1\n",
       "neighbourhood          1\n",
       "dtype: int64"
      ]
     },
     "execution_count": 9,
     "metadata": {},
     "output_type": "execute_result"
    }
   ],
   "source": [
    "neighbourhoods.isnull().sum()"
   ]
  },
  {
   "cell_type": "code",
   "execution_count": 10,
   "id": "adea7afa-da38-4b0a-844b-49a099f699b3",
   "metadata": {},
   "outputs": [
    {
     "name": "stdout",
     "output_type": "stream",
     "text": [
      "<class 'pandas.core.frame.DataFrame'>\n",
      "RangeIndex: 559674 entries, 0 to 559673\n",
      "Data columns (total 2 columns):\n",
      " #   Column      Non-Null Count   Dtype \n",
      "---  ------      --------------   ----- \n",
      " 0   listing_id  559674 non-null  int64 \n",
      " 1   date        559674 non-null  object\n",
      "dtypes: int64(1), object(1)\n",
      "memory usage: 8.5+ MB\n"
     ]
    }
   ],
   "source": [
    "reviews.info()"
   ]
  },
  {
   "cell_type": "code",
   "execution_count": 11,
   "id": "691a7d90-d758-459e-bdc0-a5970e699b66",
   "metadata": {
    "scrolled": true
   },
   "outputs": [
    {
     "data": {
      "text/plain": [
       "listing_id    0\n",
       "date          0\n",
       "dtype: int64"
      ]
     },
     "execution_count": 11,
     "metadata": {},
     "output_type": "execute_result"
    }
   ],
   "source": [
    "reviews.isnull().sum()"
   ]
  },
  {
   "cell_type": "markdown",
   "id": "d7166271-8f39-4fd2-8d8b-1bd0b3d4ba12",
   "metadata": {},
   "source": [
    "# 4. Clean The Data"
   ]
  },
  {
   "cell_type": "markdown",
   "id": "b03d015d-1d32-4d27-af05-9de5a21aa5e3",
   "metadata": {},
   "source": [
    "## 4.1 Remove Unnecessary Columns"
   ]
  },
  {
   "cell_type": "code",
   "execution_count": 12,
   "id": "a9a48cf4-ebac-41f3-b39a-c3d299959b4e",
   "metadata": {},
   "outputs": [],
   "source": [
    "listings = listings.drop([\"number_of_reviews\", \"last_review\", \"reviews_per_month\", \"number_of_reviews_ltm\"], axis=\"columns\")"
   ]
  },
  {
   "cell_type": "markdown",
   "id": "89955ff0-da5a-47f2-a35d-90bab45a8d32",
   "metadata": {
    "jp-MarkdownHeadingCollapsed": true
   },
   "source": [
    "## 4.2 Assign The Proper Column's Data Type"
   ]
  },
  {
   "cell_type": "markdown",
   "id": "fd7adcd0-928d-4e40-aa52-b6fc7d9a8eae",
   "metadata": {
    "jp-MarkdownHeadingCollapsed": true
   },
   "source": [
    "### 4.2.1 listings"
   ]
  },
  {
   "cell_type": "code",
   "execution_count": 13,
   "id": "bfdee056-d0cb-4ec3-a36e-aeda13a2b203",
   "metadata": {},
   "outputs": [
    {
     "name": "stdout",
     "output_type": "stream",
     "text": [
      "<class 'pandas.core.frame.DataFrame'>\n",
      "RangeIndex: 14017 entries, 0 to 14016\n",
      "Data columns (total 14 columns):\n",
      " #   Column                          Non-Null Count  Dtype  \n",
      "---  ------                          --------------  -----  \n",
      " 0   id                              14017 non-null  int64  \n",
      " 1   name                            14017 non-null  object \n",
      " 2   host_id                         14017 non-null  int64  \n",
      " 3   host_name                       14008 non-null  object \n",
      " 4   neighbourhood_group             14017 non-null  object \n",
      " 5   neighbourhood                   14017 non-null  object \n",
      " 6   latitude                        14017 non-null  float64\n",
      " 7   longitude                       14017 non-null  float64\n",
      " 8   room_type                       14017 non-null  object \n",
      " 9   price                           9008 non-null   float64\n",
      " 10  minimum_nights                  14017 non-null  int64  \n",
      " 11  calculated_host_listings_count  14017 non-null  int64  \n",
      " 12  availability_365                14017 non-null  int64  \n",
      " 13  license                         8812 non-null   object \n",
      "dtypes: float64(3), int64(5), object(6)\n",
      "memory usage: 1.5+ MB\n"
     ]
    }
   ],
   "source": [
    "listings.info()"
   ]
  },
  {
   "cell_type": "code",
   "execution_count": 14,
   "id": "c0bacdd6-8754-4235-881b-f844f7b46c60",
   "metadata": {},
   "outputs": [
    {
     "data": {
      "text/plain": [
       "id                                14017\n",
       "name                              13482\n",
       "host_id                            9752\n",
       "host_name                          3915\n",
       "neighbourhood_group                  12\n",
       "neighbourhood                       138\n",
       "latitude                          10123\n",
       "longitude                         11101\n",
       "room_type                             4\n",
       "price                               578\n",
       "minimum_nights                      105\n",
       "calculated_host_listings_count       36\n",
       "availability_365                    366\n",
       "license                            7371\n",
       "dtype: int64"
      ]
     },
     "execution_count": 14,
     "metadata": {},
     "output_type": "execute_result"
    }
   ],
   "source": [
    "listings.nunique()"
   ]
  },
  {
   "cell_type": "code",
   "execution_count": 15,
   "id": "3ceb3681-3e2a-4d7f-a9cc-853b5e7bb3f8",
   "metadata": {},
   "outputs": [],
   "source": [
    "listings[\"neighbourhood_group\"] = listings[\"neighbourhood_group\"].astype(\"category\")\n",
    "listings[\"neighbourhood\"] = listings[\"neighbourhood\"].astype(\"category\")\n",
    "listings[\"room_type\"] = listings[\"room_type\"].astype(\"category\")"
   ]
  },
  {
   "cell_type": "code",
   "execution_count": 16,
   "id": "9a53d2b0-3997-48c3-87bf-6051d24e6049",
   "metadata": {
    "scrolled": true
   },
   "outputs": [
    {
     "name": "stdout",
     "output_type": "stream",
     "text": [
      "<class 'pandas.core.frame.DataFrame'>\n",
      "RangeIndex: 14017 entries, 0 to 14016\n",
      "Data columns (total 14 columns):\n",
      " #   Column                          Non-Null Count  Dtype   \n",
      "---  ------                          --------------  -----   \n",
      " 0   id                              14017 non-null  int64   \n",
      " 1   name                            14017 non-null  object  \n",
      " 2   host_id                         14017 non-null  int64   \n",
      " 3   host_name                       14008 non-null  object  \n",
      " 4   neighbourhood_group             14017 non-null  category\n",
      " 5   neighbourhood                   14017 non-null  category\n",
      " 6   latitude                        14017 non-null  float64 \n",
      " 7   longitude                       14017 non-null  float64 \n",
      " 8   room_type                       14017 non-null  category\n",
      " 9   price                           9008 non-null   float64 \n",
      " 10  minimum_nights                  14017 non-null  int64   \n",
      " 11  calculated_host_listings_count  14017 non-null  int64   \n",
      " 12  availability_365                14017 non-null  int64   \n",
      " 13  license                         8812 non-null   object  \n",
      "dtypes: category(3), float64(3), int64(5), object(3)\n",
      "memory usage: 1.2+ MB\n"
     ]
    }
   ],
   "source": [
    "listings.info()"
   ]
  },
  {
   "cell_type": "markdown",
   "id": "d2603a46-ffef-41c2-9161-d37359fd027b",
   "metadata": {
    "jp-MarkdownHeadingCollapsed": true
   },
   "source": [
    "### 4.2.2 neighbourhoods"
   ]
  },
  {
   "cell_type": "code",
   "execution_count": 17,
   "id": "05e2e03e-687e-4ebb-a24f-3b3a11dfb5ae",
   "metadata": {},
   "outputs": [
    {
     "name": "stdout",
     "output_type": "stream",
     "text": [
      "<class 'pandas.core.frame.DataFrame'>\n",
      "RangeIndex: 139 entries, 0 to 138\n",
      "Data columns (total 2 columns):\n",
      " #   Column               Non-Null Count  Dtype \n",
      "---  ------               --------------  ----- \n",
      " 0   neighbourhood_group  138 non-null    object\n",
      " 1   neighbourhood        138 non-null    object\n",
      "dtypes: object(2)\n",
      "memory usage: 2.3+ KB\n"
     ]
    }
   ],
   "source": [
    "neighbourhoods.info()"
   ]
  },
  {
   "cell_type": "code",
   "execution_count": 18,
   "id": "306a5016-9fb7-4e04-a655-27b42a68dadc",
   "metadata": {},
   "outputs": [
    {
     "data": {
      "text/plain": [
       "neighbourhood_group     12\n",
       "neighbourhood          138\n",
       "dtype: int64"
      ]
     },
     "execution_count": 18,
     "metadata": {},
     "output_type": "execute_result"
    }
   ],
   "source": [
    "neighbourhoods.nunique()"
   ]
  },
  {
   "cell_type": "code",
   "execution_count": 19,
   "id": "81a0c1d0-3477-4f4c-921a-833d94b60f62",
   "metadata": {},
   "outputs": [],
   "source": [
    "neighbourhoods[\"neighbourhood_group\"] = neighbourhoods[\"neighbourhood_group\"].astype(\"category\")\n",
    "neighbourhoods[\"neighbourhood\"] = neighbourhoods[\"neighbourhood\"].astype(\"category\")"
   ]
  },
  {
   "cell_type": "code",
   "execution_count": 20,
   "id": "26873847-8219-4fe8-8dc3-da4d0b2fcafd",
   "metadata": {},
   "outputs": [
    {
     "name": "stdout",
     "output_type": "stream",
     "text": [
      "<class 'pandas.core.frame.DataFrame'>\n",
      "RangeIndex: 139 entries, 0 to 138\n",
      "Data columns (total 2 columns):\n",
      " #   Column               Non-Null Count  Dtype   \n",
      "---  ------               --------------  -----   \n",
      " 0   neighbourhood_group  138 non-null    category\n",
      " 1   neighbourhood        138 non-null    category\n",
      "dtypes: category(2)\n",
      "memory usage: 6.1 KB\n"
     ]
    }
   ],
   "source": [
    "neighbourhoods.info()"
   ]
  },
  {
   "cell_type": "markdown",
   "id": "256c5757-9893-4d5c-8045-7dddb6549dc6",
   "metadata": {
    "jp-MarkdownHeadingCollapsed": true
   },
   "source": [
    "### 4.2.3 reviews"
   ]
  },
  {
   "cell_type": "code",
   "execution_count": 21,
   "id": "ce3f5f57-6042-480d-9eb8-87945ccfe574",
   "metadata": {},
   "outputs": [
    {
     "name": "stdout",
     "output_type": "stream",
     "text": [
      "<class 'pandas.core.frame.DataFrame'>\n",
      "RangeIndex: 559674 entries, 0 to 559673\n",
      "Data columns (total 2 columns):\n",
      " #   Column      Non-Null Count   Dtype \n",
      "---  ------      --------------   ----- \n",
      " 0   listing_id  559674 non-null  int64 \n",
      " 1   date        559674 non-null  object\n",
      "dtypes: int64(1), object(1)\n",
      "memory usage: 8.5+ MB\n"
     ]
    }
   ],
   "source": [
    "reviews.info()"
   ]
  },
  {
   "cell_type": "code",
   "execution_count": 22,
   "id": "53806fb0-ea2c-495e-a4bc-2ab4e6c8318a",
   "metadata": {},
   "outputs": [],
   "source": [
    "reviews[\"date\"] = pd.to_datetime(reviews[\"date\"], format=\"%Y-%m-%d\")"
   ]
  },
  {
   "cell_type": "code",
   "execution_count": 23,
   "id": "57420629-7037-4038-8aaa-ba13e770fdcc",
   "metadata": {},
   "outputs": [
    {
     "name": "stdout",
     "output_type": "stream",
     "text": [
      "<class 'pandas.core.frame.DataFrame'>\n",
      "RangeIndex: 559674 entries, 0 to 559673\n",
      "Data columns (total 2 columns):\n",
      " #   Column      Non-Null Count   Dtype         \n",
      "---  ------      --------------   -----         \n",
      " 0   listing_id  559674 non-null  int64         \n",
      " 1   date        559674 non-null  datetime64[ns]\n",
      "dtypes: datetime64[ns](1), int64(1)\n",
      "memory usage: 8.5 MB\n"
     ]
    }
   ],
   "source": [
    "reviews.info()"
   ]
  },
  {
   "cell_type": "markdown",
   "id": "e7480f40-fdbc-469e-b4c5-7b465f044df2",
   "metadata": {},
   "source": [
    "## 4.3 Missing Values"
   ]
  },
  {
   "cell_type": "markdown",
   "id": "96e49e19-62aa-4da0-b47b-b843066f0745",
   "metadata": {
    "jp-MarkdownHeadingCollapsed": true
   },
   "source": [
    "### 4.3.1 listings"
   ]
  },
  {
   "cell_type": "code",
   "execution_count": 24,
   "id": "c3e7ae2e-7e4f-4162-9907-c06778f164b3",
   "metadata": {},
   "outputs": [
    {
     "data": {
      "text/plain": [
       "id                                   0\n",
       "name                                 0\n",
       "host_id                              0\n",
       "host_name                            9\n",
       "neighbourhood_group                  0\n",
       "neighbourhood                        0\n",
       "latitude                             0\n",
       "longitude                            0\n",
       "room_type                            0\n",
       "price                             5009\n",
       "minimum_nights                       0\n",
       "calculated_host_listings_count       0\n",
       "availability_365                     0\n",
       "license                           5205\n",
       "dtype: int64"
      ]
     },
     "execution_count": 24,
     "metadata": {},
     "output_type": "execute_result"
    }
   ],
   "source": [
    "listings.isnull().sum()"
   ]
  },
  {
   "cell_type": "code",
   "execution_count": 25,
   "id": "0d623468-18fc-4cec-ae6e-416da55ec104",
   "metadata": {},
   "outputs": [
    {
     "data": {
      "text/html": [
       "<div>\n",
       "<style scoped>\n",
       "    .dataframe tbody tr th:only-of-type {\n",
       "        vertical-align: middle;\n",
       "    }\n",
       "\n",
       "    .dataframe tbody tr th {\n",
       "        vertical-align: top;\n",
       "    }\n",
       "\n",
       "    .dataframe thead th {\n",
       "        text-align: right;\n",
       "    }\n",
       "</style>\n",
       "<table border=\"1\" class=\"dataframe\">\n",
       "  <thead>\n",
       "    <tr style=\"text-align: right;\">\n",
       "      <th></th>\n",
       "      <th>id</th>\n",
       "      <th>name</th>\n",
       "      <th>host_id</th>\n",
       "      <th>host_name</th>\n",
       "      <th>neighbourhood_group</th>\n",
       "      <th>neighbourhood</th>\n",
       "      <th>latitude</th>\n",
       "      <th>longitude</th>\n",
       "      <th>room_type</th>\n",
       "      <th>price</th>\n",
       "      <th>minimum_nights</th>\n",
       "      <th>calculated_host_listings_count</th>\n",
       "      <th>availability_365</th>\n",
       "      <th>license</th>\n",
       "    </tr>\n",
       "  </thead>\n",
       "  <tbody>\n",
       "    <tr>\n",
       "      <th>0</th>\n",
       "      <td>3176</td>\n",
       "      <td>Fabulous Flat in great Location</td>\n",
       "      <td>3718</td>\n",
       "      <td>Britta</td>\n",
       "      <td>Pankow</td>\n",
       "      <td>Prenzlauer Berg Südwest</td>\n",
       "      <td>52.534710</td>\n",
       "      <td>13.418100</td>\n",
       "      <td>Entire home/apt</td>\n",
       "      <td>105.0</td>\n",
       "      <td>63</td>\n",
       "      <td>1</td>\n",
       "      <td>333</td>\n",
       "      <td>First name and Last name: Nicolas Krotz &lt;br/&gt; ...</td>\n",
       "    </tr>\n",
       "    <tr>\n",
       "      <th>1</th>\n",
       "      <td>9991</td>\n",
       "      <td>Geourgeous flat - outstanding views</td>\n",
       "      <td>33852</td>\n",
       "      <td>Philipp</td>\n",
       "      <td>Pankow</td>\n",
       "      <td>Prenzlauer Berg Südwest</td>\n",
       "      <td>52.532690</td>\n",
       "      <td>13.418050</td>\n",
       "      <td>Entire home/apt</td>\n",
       "      <td>180.0</td>\n",
       "      <td>6</td>\n",
       "      <td>1</td>\n",
       "      <td>22</td>\n",
       "      <td>03/Z/RA/003410-18</td>\n",
       "    </tr>\n",
       "    <tr>\n",
       "      <th>2</th>\n",
       "      <td>14325</td>\n",
       "      <td>Studio Apartment in Prenzlauer Berg</td>\n",
       "      <td>55531</td>\n",
       "      <td>Chris + Oliver</td>\n",
       "      <td>Pankow</td>\n",
       "      <td>Prenzlauer Berg Nordwest</td>\n",
       "      <td>52.548130</td>\n",
       "      <td>13.403660</td>\n",
       "      <td>Entire home/apt</td>\n",
       "      <td>70.0</td>\n",
       "      <td>150</td>\n",
       "      <td>4</td>\n",
       "      <td>270</td>\n",
       "      <td>Unknown</td>\n",
       "    </tr>\n",
       "    <tr>\n",
       "      <th>3</th>\n",
       "      <td>16644</td>\n",
       "      <td>In the Heart of Berlin - Kreuzberg</td>\n",
       "      <td>64696</td>\n",
       "      <td>Rene</td>\n",
       "      <td>Friedrichshain-Kreuzberg</td>\n",
       "      <td>nördliche Luisenstadt</td>\n",
       "      <td>52.503120</td>\n",
       "      <td>13.435080</td>\n",
       "      <td>Entire home/apt</td>\n",
       "      <td>90.0</td>\n",
       "      <td>93</td>\n",
       "      <td>2</td>\n",
       "      <td>17</td>\n",
       "      <td>Unknown</td>\n",
       "    </tr>\n",
       "    <tr>\n",
       "      <th>4</th>\n",
       "      <td>17904</td>\n",
       "      <td>Beautiful Kreuzberg studio - 3 months minimum</td>\n",
       "      <td>68997</td>\n",
       "      <td>Matthias</td>\n",
       "      <td>Neukölln</td>\n",
       "      <td>Reuterstraße</td>\n",
       "      <td>52.494190</td>\n",
       "      <td>13.421660</td>\n",
       "      <td>Entire home/apt</td>\n",
       "      <td>28.0</td>\n",
       "      <td>92</td>\n",
       "      <td>1</td>\n",
       "      <td>16</td>\n",
       "      <td>Unknown</td>\n",
       "    </tr>\n",
       "    <tr>\n",
       "      <th>...</th>\n",
       "      <td>...</td>\n",
       "      <td>...</td>\n",
       "      <td>...</td>\n",
       "      <td>...</td>\n",
       "      <td>...</td>\n",
       "      <td>...</td>\n",
       "      <td>...</td>\n",
       "      <td>...</td>\n",
       "      <td>...</td>\n",
       "      <td>...</td>\n",
       "      <td>...</td>\n",
       "      <td>...</td>\n",
       "      <td>...</td>\n",
       "      <td>...</td>\n",
       "    </tr>\n",
       "    <tr>\n",
       "      <th>9003</th>\n",
       "      <td>1247185743048986481</td>\n",
       "      <td>Wohnen am Wannsee</td>\n",
       "      <td>268020889</td>\n",
       "      <td>Isabelle</td>\n",
       "      <td>Steglitz - Zehlendorf</td>\n",
       "      <td>Zehlendorf  Südwest</td>\n",
       "      <td>52.422346</td>\n",
       "      <td>13.159617</td>\n",
       "      <td>Entire home/apt</td>\n",
       "      <td>85.0</td>\n",
       "      <td>92</td>\n",
       "      <td>1</td>\n",
       "      <td>365</td>\n",
       "      <td>Unknown</td>\n",
       "    </tr>\n",
       "    <tr>\n",
       "      <th>9004</th>\n",
       "      <td>1247573966059425584</td>\n",
       "      <td>Gemütliches Apartment mit Online Check-In</td>\n",
       "      <td>533768179</td>\n",
       "      <td>Lukas</td>\n",
       "      <td>Neukölln</td>\n",
       "      <td>Rixdorf</td>\n",
       "      <td>52.479015</td>\n",
       "      <td>13.445917</td>\n",
       "      <td>Entire home/apt</td>\n",
       "      <td>102.0</td>\n",
       "      <td>1</td>\n",
       "      <td>2</td>\n",
       "      <td>322</td>\n",
       "      <td>Legal entity name and Legal form: indepecon Gm...</td>\n",
       "    </tr>\n",
       "    <tr>\n",
       "      <th>9005</th>\n",
       "      <td>1247603814767312744</td>\n",
       "      <td>Cosy room in the city</td>\n",
       "      <td>592845983</td>\n",
       "      <td>Gülcin</td>\n",
       "      <td>Tempelhof - Schöneberg</td>\n",
       "      <td>Tempelhof</td>\n",
       "      <td>52.469562</td>\n",
       "      <td>13.383388</td>\n",
       "      <td>Private room</td>\n",
       "      <td>45.0</td>\n",
       "      <td>25</td>\n",
       "      <td>2</td>\n",
       "      <td>354</td>\n",
       "      <td>07/Z/RA/013642-20</td>\n",
       "    </tr>\n",
       "    <tr>\n",
       "      <th>9006</th>\n",
       "      <td>1247611373476346345</td>\n",
       "      <td>Bright &amp; spacious flat in mitte</td>\n",
       "      <td>1382469</td>\n",
       "      <td>Julia</td>\n",
       "      <td>Mitte</td>\n",
       "      <td>Alexanderplatz</td>\n",
       "      <td>52.523168</td>\n",
       "      <td>13.381248</td>\n",
       "      <td>Entire home/apt</td>\n",
       "      <td>120.0</td>\n",
       "      <td>92</td>\n",
       "      <td>1</td>\n",
       "      <td>305</td>\n",
       "      <td>Unknown</td>\n",
       "    </tr>\n",
       "    <tr>\n",
       "      <th>9007</th>\n",
       "      <td>1247687868662918683</td>\n",
       "      <td>Souterrainwohnung nähe Olympiastadion und Messe</td>\n",
       "      <td>167250650</td>\n",
       "      <td>Peter</td>\n",
       "      <td>Charlottenburg-Wilm.</td>\n",
       "      <td>Heerstrasse</td>\n",
       "      <td>52.506281</td>\n",
       "      <td>13.233674</td>\n",
       "      <td>Entire home/apt</td>\n",
       "      <td>59.0</td>\n",
       "      <td>1</td>\n",
       "      <td>1</td>\n",
       "      <td>356</td>\n",
       "      <td>04/Z/AZ/015633-24</td>\n",
       "    </tr>\n",
       "  </tbody>\n",
       "</table>\n",
       "<p>9008 rows × 14 columns</p>\n",
       "</div>"
      ],
      "text/plain": [
       "                       id                                             name  \\\n",
       "0                    3176                  Fabulous Flat in great Location   \n",
       "1                    9991              Geourgeous flat - outstanding views   \n",
       "2                   14325              Studio Apartment in Prenzlauer Berg   \n",
       "3                   16644               In the Heart of Berlin - Kreuzberg   \n",
       "4                   17904    Beautiful Kreuzberg studio - 3 months minimum   \n",
       "...                   ...                                              ...   \n",
       "9003  1247185743048986481                                Wohnen am Wannsee   \n",
       "9004  1247573966059425584        Gemütliches Apartment mit Online Check-In   \n",
       "9005  1247603814767312744                            Cosy room in the city   \n",
       "9006  1247611373476346345                  Bright & spacious flat in mitte   \n",
       "9007  1247687868662918683  Souterrainwohnung nähe Olympiastadion und Messe   \n",
       "\n",
       "        host_id       host_name       neighbourhood_group  \\\n",
       "0          3718          Britta                    Pankow   \n",
       "1         33852         Philipp                    Pankow   \n",
       "2         55531  Chris + Oliver                    Pankow   \n",
       "3         64696            Rene  Friedrichshain-Kreuzberg   \n",
       "4         68997        Matthias                  Neukölln   \n",
       "...         ...             ...                       ...   \n",
       "9003  268020889        Isabelle     Steglitz - Zehlendorf   \n",
       "9004  533768179           Lukas                  Neukölln   \n",
       "9005  592845983          Gülcin    Tempelhof - Schöneberg   \n",
       "9006    1382469           Julia                     Mitte   \n",
       "9007  167250650           Peter      Charlottenburg-Wilm.   \n",
       "\n",
       "                 neighbourhood   latitude  longitude        room_type  price  \\\n",
       "0      Prenzlauer Berg Südwest  52.534710  13.418100  Entire home/apt  105.0   \n",
       "1      Prenzlauer Berg Südwest  52.532690  13.418050  Entire home/apt  180.0   \n",
       "2     Prenzlauer Berg Nordwest  52.548130  13.403660  Entire home/apt   70.0   \n",
       "3        nördliche Luisenstadt  52.503120  13.435080  Entire home/apt   90.0   \n",
       "4                 Reuterstraße  52.494190  13.421660  Entire home/apt   28.0   \n",
       "...                        ...        ...        ...              ...    ...   \n",
       "9003       Zehlendorf  Südwest  52.422346  13.159617  Entire home/apt   85.0   \n",
       "9004                   Rixdorf  52.479015  13.445917  Entire home/apt  102.0   \n",
       "9005                 Tempelhof  52.469562  13.383388     Private room   45.0   \n",
       "9006            Alexanderplatz  52.523168  13.381248  Entire home/apt  120.0   \n",
       "9007               Heerstrasse  52.506281  13.233674  Entire home/apt   59.0   \n",
       "\n",
       "      minimum_nights  calculated_host_listings_count  availability_365  \\\n",
       "0                 63                               1               333   \n",
       "1                  6                               1                22   \n",
       "2                150                               4               270   \n",
       "3                 93                               2                17   \n",
       "4                 92                               1                16   \n",
       "...              ...                             ...               ...   \n",
       "9003              92                               1               365   \n",
       "9004               1                               2               322   \n",
       "9005              25                               2               354   \n",
       "9006              92                               1               305   \n",
       "9007               1                               1               356   \n",
       "\n",
       "                                                license  \n",
       "0     First name and Last name: Nicolas Krotz <br/> ...  \n",
       "1                                     03/Z/RA/003410-18  \n",
       "2                                               Unknown  \n",
       "3                                               Unknown  \n",
       "4                                               Unknown  \n",
       "...                                                 ...  \n",
       "9003                                            Unknown  \n",
       "9004  Legal entity name and Legal form: indepecon Gm...  \n",
       "9005                                  07/Z/RA/013642-20  \n",
       "9006                                            Unknown  \n",
       "9007                                  04/Z/AZ/015633-24  \n",
       "\n",
       "[9008 rows x 14 columns]"
      ]
     },
     "execution_count": 25,
     "metadata": {},
     "output_type": "execute_result"
    }
   ],
   "source": [
    "listings = listings.dropna(subset=[\"price\"])\n",
    "listings[\"license\"] = listings[\"license\"].fillna(\"Unknown\")\n",
    "\n",
    "listings.reset_index(drop=True)"
   ]
  },
  {
   "cell_type": "code",
   "execution_count": 26,
   "id": "68282ecd-feff-4a92-9c7b-14bdf7336bde",
   "metadata": {},
   "outputs": [
    {
     "data": {
      "text/plain": [
       "id                                0\n",
       "name                              0\n",
       "host_id                           0\n",
       "host_name                         0\n",
       "neighbourhood_group               0\n",
       "neighbourhood                     0\n",
       "latitude                          0\n",
       "longitude                         0\n",
       "room_type                         0\n",
       "price                             0\n",
       "minimum_nights                    0\n",
       "calculated_host_listings_count    0\n",
       "availability_365                  0\n",
       "license                           0\n",
       "dtype: int64"
      ]
     },
     "execution_count": 26,
     "metadata": {},
     "output_type": "execute_result"
    }
   ],
   "source": [
    "listings.isnull().sum()"
   ]
  },
  {
   "cell_type": "code",
   "execution_count": 27,
   "id": "5122f51b-f3ec-4263-9e00-a6e37a046117",
   "metadata": {},
   "outputs": [
    {
     "name": "stdout",
     "output_type": "stream",
     "text": [
      "<class 'pandas.core.frame.DataFrame'>\n",
      "Index: 9008 entries, 0 to 14016\n",
      "Data columns (total 14 columns):\n",
      " #   Column                          Non-Null Count  Dtype   \n",
      "---  ------                          --------------  -----   \n",
      " 0   id                              9008 non-null   int64   \n",
      " 1   name                            9008 non-null   object  \n",
      " 2   host_id                         9008 non-null   int64   \n",
      " 3   host_name                       9008 non-null   object  \n",
      " 4   neighbourhood_group             9008 non-null   category\n",
      " 5   neighbourhood                   9008 non-null   category\n",
      " 6   latitude                        9008 non-null   float64 \n",
      " 7   longitude                       9008 non-null   float64 \n",
      " 8   room_type                       9008 non-null   category\n",
      " 9   price                           9008 non-null   float64 \n",
      " 10  minimum_nights                  9008 non-null   int64   \n",
      " 11  calculated_host_listings_count  9008 non-null   int64   \n",
      " 12  availability_365                9008 non-null   int64   \n",
      " 13  license                         9008 non-null   object  \n",
      "dtypes: category(3), float64(3), int64(5), object(3)\n",
      "memory usage: 885.4+ KB\n"
     ]
    }
   ],
   "source": [
    "listings.info()"
   ]
  },
  {
   "cell_type": "markdown",
   "id": "f6f63fbb-9765-47bf-9289-734963f1cd22",
   "metadata": {},
   "source": [
    "### 4.3.2 neighbourhoods"
   ]
  },
  {
   "cell_type": "code",
   "execution_count": 28,
   "id": "27506fc7-e83d-412c-b0fb-d7679dc635f9",
   "metadata": {},
   "outputs": [
    {
     "data": {
      "text/html": [
       "<div>\n",
       "<style scoped>\n",
       "    .dataframe tbody tr th:only-of-type {\n",
       "        vertical-align: middle;\n",
       "    }\n",
       "\n",
       "    .dataframe tbody tr th {\n",
       "        vertical-align: top;\n",
       "    }\n",
       "\n",
       "    .dataframe thead th {\n",
       "        text-align: right;\n",
       "    }\n",
       "</style>\n",
       "<table border=\"1\" class=\"dataframe\">\n",
       "  <thead>\n",
       "    <tr style=\"text-align: right;\">\n",
       "      <th></th>\n",
       "      <th>neighbourhood_group</th>\n",
       "      <th>neighbourhood</th>\n",
       "    </tr>\n",
       "  </thead>\n",
       "  <tbody>\n",
       "    <tr>\n",
       "      <th>134</th>\n",
       "      <td>Treptow - Köpenick</td>\n",
       "      <td>Oberschöneweide</td>\n",
       "    </tr>\n",
       "    <tr>\n",
       "      <th>135</th>\n",
       "      <td>Treptow - Köpenick</td>\n",
       "      <td>Plänterwald</td>\n",
       "    </tr>\n",
       "    <tr>\n",
       "      <th>136</th>\n",
       "      <td>Treptow - Köpenick</td>\n",
       "      <td>Rahnsdorf/Hessenwinkel</td>\n",
       "    </tr>\n",
       "    <tr>\n",
       "      <th>137</th>\n",
       "      <td>Treptow - Köpenick</td>\n",
       "      <td>Schmöckwitz/Karolinenhof/Rauchfangswerder</td>\n",
       "    </tr>\n",
       "    <tr>\n",
       "      <th>138</th>\n",
       "      <td>NaN</td>\n",
       "      <td>NaN</td>\n",
       "    </tr>\n",
       "  </tbody>\n",
       "</table>\n",
       "</div>"
      ],
      "text/plain": [
       "    neighbourhood_group                              neighbourhood\n",
       "134  Treptow - Köpenick                            Oberschöneweide\n",
       "135  Treptow - Köpenick                                Plänterwald\n",
       "136  Treptow - Köpenick                     Rahnsdorf/Hessenwinkel\n",
       "137  Treptow - Köpenick  Schmöckwitz/Karolinenhof/Rauchfangswerder\n",
       "138                 NaN                                        NaN"
      ]
     },
     "execution_count": 28,
     "metadata": {},
     "output_type": "execute_result"
    }
   ],
   "source": [
    "neighbourhoods.tail()"
   ]
  },
  {
   "cell_type": "code",
   "execution_count": 29,
   "id": "4850917e-c8ad-4691-95c0-cf3bb9a161d3",
   "metadata": {},
   "outputs": [
    {
     "data": {
      "text/plain": [
       "neighbourhood_group    1\n",
       "neighbourhood          1\n",
       "dtype: int64"
      ]
     },
     "execution_count": 29,
     "metadata": {},
     "output_type": "execute_result"
    }
   ],
   "source": [
    "neighbourhoods.isnull().sum()"
   ]
  },
  {
   "cell_type": "code",
   "execution_count": 30,
   "id": "52a7cc5a-4f6e-49f0-b637-1e45fcb695a9",
   "metadata": {},
   "outputs": [],
   "source": [
    "neighbourhoods = neighbourhoods.dropna(how=\"all\")"
   ]
  },
  {
   "cell_type": "code",
   "execution_count": 31,
   "id": "22ae5fa8-3c88-444a-84e0-11eba7f51318",
   "metadata": {
    "scrolled": true
   },
   "outputs": [
    {
     "data": {
      "text/html": [
       "<div>\n",
       "<style scoped>\n",
       "    .dataframe tbody tr th:only-of-type {\n",
       "        vertical-align: middle;\n",
       "    }\n",
       "\n",
       "    .dataframe tbody tr th {\n",
       "        vertical-align: top;\n",
       "    }\n",
       "\n",
       "    .dataframe thead th {\n",
       "        text-align: right;\n",
       "    }\n",
       "</style>\n",
       "<table border=\"1\" class=\"dataframe\">\n",
       "  <thead>\n",
       "    <tr style=\"text-align: right;\">\n",
       "      <th></th>\n",
       "      <th>neighbourhood_group</th>\n",
       "      <th>neighbourhood</th>\n",
       "    </tr>\n",
       "  </thead>\n",
       "  <tbody>\n",
       "    <tr>\n",
       "      <th>133</th>\n",
       "      <td>Treptow - Köpenick</td>\n",
       "      <td>Niederschöneweide</td>\n",
       "    </tr>\n",
       "    <tr>\n",
       "      <th>134</th>\n",
       "      <td>Treptow - Köpenick</td>\n",
       "      <td>Oberschöneweide</td>\n",
       "    </tr>\n",
       "    <tr>\n",
       "      <th>135</th>\n",
       "      <td>Treptow - Köpenick</td>\n",
       "      <td>Plänterwald</td>\n",
       "    </tr>\n",
       "    <tr>\n",
       "      <th>136</th>\n",
       "      <td>Treptow - Köpenick</td>\n",
       "      <td>Rahnsdorf/Hessenwinkel</td>\n",
       "    </tr>\n",
       "    <tr>\n",
       "      <th>137</th>\n",
       "      <td>Treptow - Köpenick</td>\n",
       "      <td>Schmöckwitz/Karolinenhof/Rauchfangswerder</td>\n",
       "    </tr>\n",
       "  </tbody>\n",
       "</table>\n",
       "</div>"
      ],
      "text/plain": [
       "    neighbourhood_group                              neighbourhood\n",
       "133  Treptow - Köpenick                          Niederschöneweide\n",
       "134  Treptow - Köpenick                            Oberschöneweide\n",
       "135  Treptow - Köpenick                                Plänterwald\n",
       "136  Treptow - Köpenick                     Rahnsdorf/Hessenwinkel\n",
       "137  Treptow - Köpenick  Schmöckwitz/Karolinenhof/Rauchfangswerder"
      ]
     },
     "execution_count": 31,
     "metadata": {},
     "output_type": "execute_result"
    }
   ],
   "source": [
    "neighbourhoods.tail()"
   ]
  },
  {
   "cell_type": "markdown",
   "id": "4dafbdb4-7caa-46d1-b25f-a4bd3fbef298",
   "metadata": {
    "jp-MarkdownHeadingCollapsed": true
   },
   "source": [
    "## 4.4 Remove Outliers (with The Interquartile Range Method)"
   ]
  },
  {
   "cell_type": "code",
   "execution_count": 32,
   "id": "a835caa7-3f2d-4e5f-9167-ad348085f7d1",
   "metadata": {},
   "outputs": [],
   "source": [
    "q1 = listings[\"price\"].quantile(0.25)\n",
    "q3 = listings[\"price\"].quantile(0.75)\n",
    "iqr = q3 - q1\n",
    "\n",
    "lower_bound = q1 - 1.5*iqr\n",
    "upper_bound = q3 + 1.5*iqr\n",
    "\n",
    "condition = (listings[\"price\"] > lower_bound) & (listings[\"price\"] < upper_bound)\n",
    "listings_no_outliers = listings[condition]\n",
    "\n",
    "listings = listings_no_outliers"
   ]
  },
  {
   "cell_type": "markdown",
   "id": "814e1762-0747-42a0-a50e-42dafa1d192b",
   "metadata": {
    "jp-MarkdownHeadingCollapsed": true
   },
   "source": [
    "# 5. Export Cleaned Dataset"
   ]
  },
  {
   "cell_type": "code",
   "execution_count": 34,
   "id": "1ddbb009-5496-4422-b5b8-02266faa29df",
   "metadata": {},
   "outputs": [],
   "source": [
    "listings.to_csv(\"data/cleaned/cleaned_listings.csv\", index=False)\n",
    "neighbourhoods.to_csv(\"data/cleaned/cleaned_neighbourhoods.csv\", index=False)\n",
    "reviews.to_csv(\"data/cleaned/cleaned_reviews.csv\", index=False)"
   ]
  }
 ],
 "metadata": {
  "kernelspec": {
   "display_name": "Python 3 (ipykernel)",
   "language": "python",
   "name": "python3"
  },
  "language_info": {
   "codemirror_mode": {
    "name": "ipython",
    "version": 3
   },
   "file_extension": ".py",
   "mimetype": "text/x-python",
   "name": "python",
   "nbconvert_exporter": "python",
   "pygments_lexer": "ipython3",
   "version": "3.12.7"
  }
 },
 "nbformat": 4,
 "nbformat_minor": 5
}
